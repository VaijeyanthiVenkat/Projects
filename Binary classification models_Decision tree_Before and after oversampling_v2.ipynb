{
 "cells": [
  {
   "cell_type": "markdown",
   "id": "47135e1f",
   "metadata": {},
   "source": [
    "# Binary classification for revenue optimization problem"
   ]
  },
  {
   "cell_type": "markdown",
   "id": "32608928",
   "metadata": {},
   "source": [
    "### Decision tree classifier"
   ]
  },
  {
   "cell_type": "code",
   "execution_count": 171,
   "id": "ebdaac57",
   "metadata": {},
   "outputs": [],
   "source": [
    "# Import necessary packages\n",
    "import pandas as pd\n",
    "import numpy as np\n",
    "import seaborn as sns\n",
    "import matplotlib.pyplot as plt\n",
    "from pandas import DataFrame\n",
    "from numpy import array\n",
    "from sklearn.preprocessing import MinMaxScaler\n",
    "from sklearn.tree import DecisionTreeClassifier\n",
    "from sklearn.model_selection import train_test_split\n",
    "from sklearn.metrics import classification_report\n",
    "from sklearn.metrics import confusion_matrix\n",
    "from imblearn.over_sampling import RandomOverSampler"
   ]
  },
  {
   "cell_type": "markdown",
   "id": "0f045897",
   "metadata": {},
   "source": [
    "### Load data"
   ]
  },
  {
   "cell_type": "code",
   "execution_count": 192,
   "id": "997191ed",
   "metadata": {},
   "outputs": [
    {
     "data": {
      "text/plain": [
       "(1615, 4)"
      ]
     },
     "execution_count": 192,
     "metadata": {},
     "output_type": "execute_result"
    }
   ],
   "source": [
    "demo=pd.read_excel('D:/Courses and Projects/Revenue optimization/Task_Data_Scientist_Dataset.xlsx',sheet_name=1)\n",
    "demo.describe()\n",
    "demo.shape"
   ]
  },
  {
   "cell_type": "code",
   "execution_count": 193,
   "id": "44ff9ff7",
   "metadata": {},
   "outputs": [
    {
     "data": {
      "text/plain": [
       "(1615, 13)"
      ]
     },
     "execution_count": 193,
     "metadata": {},
     "output_type": "execute_result"
    }
   ],
   "source": [
    "prod_balance=pd.read_excel('D:/Courses and Projects/Revenue optimization/Task_Data_Scientist_Dataset.xlsx',sheet_name=2)\n",
    "prod_balance.describe()\n",
    "prod_balance.shape"
   ]
  },
  {
   "cell_type": "code",
   "execution_count": 194,
   "id": "20f2f347",
   "metadata": {},
   "outputs": [
    {
     "data": {
      "text/plain": [
       "(1587, 15)"
      ]
     },
     "execution_count": 194,
     "metadata": {},
     "output_type": "execute_result"
    }
   ],
   "source": [
    "inflow_outflow=pd.read_excel('D:/Courses and Projects/Revenue optimization/Task_Data_Scientist_Dataset.xlsx',sheet_name=3)\n",
    "inflow_outflow.describe()\n",
    "inflow_outflow.shape"
   ]
  },
  {
   "cell_type": "code",
   "execution_count": 195,
   "id": "742f06f3",
   "metadata": {},
   "outputs": [
    {
     "data": {
      "text/plain": [
       "(969, 7)"
      ]
     },
     "execution_count": 195,
     "metadata": {},
     "output_type": "execute_result"
    }
   ],
   "source": [
    "sales_revenue=pd.read_excel('D:/Courses and Projects/Revenue optimization/Task_Data_Scientist_Dataset.xlsx',sheet_name=4)\n",
    "sales_revenue.describe()\n",
    "sales_revenue.shape"
   ]
  },
  {
   "cell_type": "markdown",
   "id": "cf38a6dd",
   "metadata": {},
   "source": [
    "Check for missing data"
   ]
  },
  {
   "cell_type": "code",
   "execution_count": 196,
   "id": "6483ebc2",
   "metadata": {},
   "outputs": [
    {
     "name": "stdout",
     "output_type": "stream",
     "text": [
      "Columns with null values in Demo data:\n",
      "Client    0\n",
      "Sex       3\n",
      "Age       0\n",
      "Tenure    0\n",
      "dtype: int64\n"
     ]
    }
   ],
   "source": [
    "print('Columns with null values in Demo data:',demo.isnull().sum(), sep = '\\n')"
   ]
  },
  {
   "cell_type": "code",
   "execution_count": 197,
   "id": "bb81ead4",
   "metadata": {},
   "outputs": [
    {
     "name": "stdout",
     "output_type": "stream",
     "text": [
      "Columns with null values in AccBalance data:\n",
      "Client           0\n",
      "Count_CA         0\n",
      "Count_SA      1189\n",
      "Count_MF      1309\n",
      "Count_OVD     1196\n",
      "Count_CC      1445\n",
      "Count_CL      1480\n",
      "ActBal_CA        0\n",
      "ActBal_SA     1189\n",
      "ActBal_MF     1309\n",
      "ActBal_OVD    1196\n",
      "ActBal_CC     1445\n",
      "ActBal_CL     1480\n",
      "dtype: int64\n"
     ]
    }
   ],
   "source": [
    "print('Columns with null values in AccBalance data:',prod_balance.isnull().sum(), sep = '\\n')"
   ]
  },
  {
   "cell_type": "code",
   "execution_count": 198,
   "id": "78b332bd",
   "metadata": {},
   "outputs": [
    {
     "name": "stdout",
     "output_type": "stream",
     "text": [
      "Columns with null values in AccBalance data:\n",
      "Client           0\n",
      "Count_CA         0\n",
      "Count_SA      1189\n",
      "Count_MF      1309\n",
      "Count_OVD     1196\n",
      "Count_CC      1445\n",
      "Count_CL      1480\n",
      "ActBal_CA        0\n",
      "ActBal_SA     1189\n",
      "ActBal_MF     1309\n",
      "ActBal_OVD    1196\n",
      "ActBal_CC     1445\n",
      "ActBal_CL     1480\n",
      "dtype: int64\n"
     ]
    }
   ],
   "source": [
    "print('Columns with null values in AccBalance data:',prod_balance.isnull().sum(), sep = '\\n')"
   ]
  },
  {
   "cell_type": "code",
   "execution_count": 199,
   "id": "8bfbef8f",
   "metadata": {},
   "outputs": [
    {
     "name": "stdout",
     "output_type": "stream",
     "text": [
      "Columns with null values in Flow data:\n",
      "Client                          0\n",
      "VolumeCred                      0\n",
      "VolumeCred_CA                   0\n",
      "TransactionsCred                0\n",
      "TransactionsCred_CA             0\n",
      "VolumeDeb                       0\n",
      "VolumeDeb_CA                    0\n",
      "VolumeDebCash_Card              0\n",
      "VolumeDebCashless_Card          0\n",
      "VolumeDeb_PaymentOrder          0\n",
      "TransactionsDeb                 0\n",
      "TransactionsDeb_CA              0\n",
      "TransactionsDebCash_Card        0\n",
      "TransactionsDebCashless_Card    0\n",
      "TransactionsDeb_PaymentOrder    0\n",
      "dtype: int64\n"
     ]
    }
   ],
   "source": [
    "print('Columns with null values in Flow data:',inflow_outflow.isnull().sum(), sep = '\\n')"
   ]
  },
  {
   "cell_type": "code",
   "execution_count": 200,
   "id": "7e6d9c5c",
   "metadata": {},
   "outputs": [
    {
     "name": "stdout",
     "output_type": "stream",
     "text": [
      "Columns with null values in Sales data:\n",
      "Client        0\n",
      "Sale_MF       0\n",
      "Sale_CC       0\n",
      "Sale_CL       0\n",
      "Revenue_MF    0\n",
      "Revenue_CC    0\n",
      "Revenue_CL    0\n",
      "dtype: int64\n"
     ]
    }
   ],
   "source": [
    "print('Columns with null values in Sales data:',sales_revenue.isnull().sum(), sep = '\\n')"
   ]
  },
  {
   "cell_type": "markdown",
   "id": "e8dc1ecc",
   "metadata": {},
   "source": [
    "### Replace missing values"
   ]
  },
  {
   "cell_type": "code",
   "execution_count": 201,
   "id": "5c9ea767",
   "metadata": {},
   "outputs": [
    {
     "name": "stdout",
     "output_type": "stream",
     "text": [
      "Columns with null values in AccBalance data:\n",
      "Client        0\n",
      "Count_CA      0\n",
      "Count_SA      0\n",
      "Count_MF      0\n",
      "Count_OVD     0\n",
      "Count_CC      0\n",
      "Count_CL      0\n",
      "ActBal_CA     0\n",
      "ActBal_SA     0\n",
      "ActBal_MF     0\n",
      "ActBal_OVD    0\n",
      "ActBal_CC     0\n",
      "ActBal_CL     0\n",
      "dtype: int64\n"
     ]
    }
   ],
   "source": [
    "cols=['Count_SA','Count_MF','Count_OVD','Count_CC','Count_CL','ActBal_SA','ActBal_MF','ActBal_OVD','ActBal_CC','ActBal_CL']\n",
    "prod_balance[cols]=prod_balance[cols].fillna(0)\n",
    "print('Columns with null values in AccBalance data:',prod_balance.isnull().sum(), sep = '\\n')"
   ]
  },
  {
   "cell_type": "code",
   "execution_count": 202,
   "id": "5afc097f",
   "metadata": {},
   "outputs": [
    {
     "name": "stdout",
     "output_type": "stream",
     "text": [
      "Columns with null values in Demo data:\n",
      "Client    0\n",
      "Sex       0\n",
      "Age       0\n",
      "Tenure    0\n",
      "dtype: int64\n"
     ]
    }
   ],
   "source": [
    "demo['Sex'].fillna('Other',inplace=True)\n",
    "print('Columns with null values in Demo data:',demo.isnull().sum(), sep = '\\n')"
   ]
  },
  {
   "cell_type": "markdown",
   "id": "c1142e32",
   "metadata": {},
   "source": [
    "### Data manipulation: Process data based on assumptions"
   ]
  },
  {
   "cell_type": "code",
   "execution_count": 203,
   "id": "a9509e08",
   "metadata": {},
   "outputs": [
    {
     "data": {
      "text/html": [
       "<div>\n",
       "<style scoped>\n",
       "    .dataframe tbody tr th:only-of-type {\n",
       "        vertical-align: middle;\n",
       "    }\n",
       "\n",
       "    .dataframe tbody tr th {\n",
       "        vertical-align: top;\n",
       "    }\n",
       "\n",
       "    .dataframe thead th {\n",
       "        text-align: right;\n",
       "    }\n",
       "</style>\n",
       "<table border=\"1\" class=\"dataframe\">\n",
       "  <thead>\n",
       "    <tr style=\"text-align: right;\">\n",
       "      <th></th>\n",
       "      <th>Client</th>\n",
       "      <th>Age</th>\n",
       "      <th>Tenure</th>\n",
       "      <th>Sex_F</th>\n",
       "      <th>Sex_M</th>\n",
       "      <th>Sex_Other</th>\n",
       "    </tr>\n",
       "  </thead>\n",
       "  <tbody>\n",
       "    <tr>\n",
       "      <th>0</th>\n",
       "      <td>1</td>\n",
       "      <td>51</td>\n",
       "      <td>7</td>\n",
       "      <td>1</td>\n",
       "      <td>0</td>\n",
       "      <td>0</td>\n",
       "    </tr>\n",
       "    <tr>\n",
       "      <th>1</th>\n",
       "      <td>2</td>\n",
       "      <td>43</td>\n",
       "      <td>152</td>\n",
       "      <td>0</td>\n",
       "      <td>1</td>\n",
       "      <td>0</td>\n",
       "    </tr>\n",
       "    <tr>\n",
       "      <th>2</th>\n",
       "      <td>3</td>\n",
       "      <td>17</td>\n",
       "      <td>140</td>\n",
       "      <td>0</td>\n",
       "      <td>1</td>\n",
       "      <td>0</td>\n",
       "    </tr>\n",
       "    <tr>\n",
       "      <th>3</th>\n",
       "      <td>4</td>\n",
       "      <td>24</td>\n",
       "      <td>153</td>\n",
       "      <td>0</td>\n",
       "      <td>1</td>\n",
       "      <td>0</td>\n",
       "    </tr>\n",
       "    <tr>\n",
       "      <th>4</th>\n",
       "      <td>5</td>\n",
       "      <td>58</td>\n",
       "      <td>200</td>\n",
       "      <td>1</td>\n",
       "      <td>0</td>\n",
       "      <td>0</td>\n",
       "    </tr>\n",
       "  </tbody>\n",
       "</table>\n",
       "</div>"
      ],
      "text/plain": [
       "   Client  Age  Tenure  Sex_F  Sex_M  Sex_Other\n",
       "0       1   51       7      1      0          0\n",
       "1       2   43     152      0      1          0\n",
       "2       3   17     140      0      1          0\n",
       "3       4   24     153      0      1          0\n",
       "4       5   58     200      1      0          0"
      ]
     },
     "execution_count": 203,
     "metadata": {},
     "output_type": "execute_result"
    }
   ],
   "source": [
    "demo = pd.get_dummies(demo, columns = ['Sex'])\n",
    "demo.head()"
   ]
  },
  {
   "cell_type": "code",
   "execution_count": 204,
   "id": "5570a932",
   "metadata": {},
   "outputs": [
    {
     "data": {
      "text/html": [
       "<div>\n",
       "<style scoped>\n",
       "    .dataframe tbody tr th:only-of-type {\n",
       "        vertical-align: middle;\n",
       "    }\n",
       "\n",
       "    .dataframe tbody tr th {\n",
       "        vertical-align: top;\n",
       "    }\n",
       "\n",
       "    .dataframe thead th {\n",
       "        text-align: right;\n",
       "    }\n",
       "</style>\n",
       "<table border=\"1\" class=\"dataframe\">\n",
       "  <thead>\n",
       "    <tr style=\"text-align: right;\">\n",
       "      <th></th>\n",
       "      <th>Client</th>\n",
       "      <th>Age</th>\n",
       "      <th>Tenure</th>\n",
       "      <th>Sex_F</th>\n",
       "      <th>Sex_M</th>\n",
       "      <th>Sex_Other</th>\n",
       "      <th>Tenure_years</th>\n",
       "    </tr>\n",
       "  </thead>\n",
       "  <tbody>\n",
       "    <tr>\n",
       "      <th>0</th>\n",
       "      <td>1</td>\n",
       "      <td>51</td>\n",
       "      <td>7</td>\n",
       "      <td>1</td>\n",
       "      <td>0</td>\n",
       "      <td>0</td>\n",
       "      <td>0.583333</td>\n",
       "    </tr>\n",
       "    <tr>\n",
       "      <th>1</th>\n",
       "      <td>2</td>\n",
       "      <td>43</td>\n",
       "      <td>152</td>\n",
       "      <td>0</td>\n",
       "      <td>1</td>\n",
       "      <td>0</td>\n",
       "      <td>12.666667</td>\n",
       "    </tr>\n",
       "    <tr>\n",
       "      <th>2</th>\n",
       "      <td>3</td>\n",
       "      <td>17</td>\n",
       "      <td>140</td>\n",
       "      <td>0</td>\n",
       "      <td>1</td>\n",
       "      <td>0</td>\n",
       "      <td>11.666667</td>\n",
       "    </tr>\n",
       "    <tr>\n",
       "      <th>3</th>\n",
       "      <td>4</td>\n",
       "      <td>24</td>\n",
       "      <td>153</td>\n",
       "      <td>0</td>\n",
       "      <td>1</td>\n",
       "      <td>0</td>\n",
       "      <td>12.750000</td>\n",
       "    </tr>\n",
       "    <tr>\n",
       "      <th>4</th>\n",
       "      <td>5</td>\n",
       "      <td>58</td>\n",
       "      <td>200</td>\n",
       "      <td>1</td>\n",
       "      <td>0</td>\n",
       "      <td>0</td>\n",
       "      <td>16.666667</td>\n",
       "    </tr>\n",
       "  </tbody>\n",
       "</table>\n",
       "</div>"
      ],
      "text/plain": [
       "   Client  Age  Tenure  Sex_F  Sex_M  Sex_Other  Tenure_years\n",
       "0       1   51       7      1      0          0      0.583333\n",
       "1       2   43     152      0      1          0     12.666667\n",
       "2       3   17     140      0      1          0     11.666667\n",
       "3       4   24     153      0      1          0     12.750000\n",
       "4       5   58     200      1      0          0     16.666667"
      ]
     },
     "execution_count": 204,
     "metadata": {},
     "output_type": "execute_result"
    }
   ],
   "source": [
    "demo['Tenure_years']=demo['Tenure']/12\n",
    "demo.head()"
   ]
  },
  {
   "cell_type": "markdown",
   "id": "47d86d11",
   "metadata": {},
   "source": [
    "Delete records where client's age is less than tenure in years"
   ]
  },
  {
   "cell_type": "code",
   "execution_count": 205,
   "id": "73b9476b",
   "metadata": {},
   "outputs": [
    {
     "data": {
      "text/plain": [
       "(1568, 7)"
      ]
     },
     "execution_count": 205,
     "metadata": {},
     "output_type": "execute_result"
    }
   ],
   "source": [
    "demo_filtered=demo[demo['Age']>=demo['Tenure_years']]\n",
    "demo_filtered.shape"
   ]
  },
  {
   "cell_type": "markdown",
   "id": "237e093c",
   "metadata": {},
   "source": [
    "### Data integration"
   ]
  },
  {
   "cell_type": "code",
   "execution_count": 206,
   "id": "2c7d7a2a",
   "metadata": {},
   "outputs": [
    {
     "data": {
      "text/plain": [
       "(1568, 19)"
      ]
     },
     "execution_count": 206,
     "metadata": {},
     "output_type": "execute_result"
    }
   ],
   "source": [
    "demo_balance=demo_filtered.merge(prod_balance,on=\"Client\")\n",
    "demo_balance.shape"
   ]
  },
  {
   "cell_type": "code",
   "execution_count": 207,
   "id": "37aa282e",
   "metadata": {},
   "outputs": [
    {
     "data": {
      "text/plain": [
       "(1540, 33)"
      ]
     },
     "execution_count": 207,
     "metadata": {},
     "output_type": "execute_result"
    }
   ],
   "source": [
    "demo_balance_inflow=demo_balance.merge(inflow_outflow,on=\"Client\")\n",
    "demo_balance_inflow.shape"
   ]
  },
  {
   "cell_type": "code",
   "execution_count": 208,
   "id": "3bc5854c",
   "metadata": {},
   "outputs": [
    {
     "data": {
      "text/html": [
       "<div>\n",
       "<style scoped>\n",
       "    .dataframe tbody tr th:only-of-type {\n",
       "        vertical-align: middle;\n",
       "    }\n",
       "\n",
       "    .dataframe tbody tr th {\n",
       "        vertical-align: top;\n",
       "    }\n",
       "\n",
       "    .dataframe thead th {\n",
       "        text-align: right;\n",
       "    }\n",
       "</style>\n",
       "<table border=\"1\" class=\"dataframe\">\n",
       "  <thead>\n",
       "    <tr style=\"text-align: right;\">\n",
       "      <th></th>\n",
       "      <th>Client</th>\n",
       "      <th>Age</th>\n",
       "      <th>Tenure</th>\n",
       "      <th>Sex_F</th>\n",
       "      <th>Sex_M</th>\n",
       "      <th>Sex_Other</th>\n",
       "      <th>Tenure_years</th>\n",
       "      <th>Count_CA</th>\n",
       "      <th>Count_SA</th>\n",
       "      <th>Count_MF</th>\n",
       "      <th>...</th>\n",
       "      <th>VolumeDeb</th>\n",
       "      <th>VolumeDeb_CA</th>\n",
       "      <th>VolumeDebCash_Card</th>\n",
       "      <th>VolumeDebCashless_Card</th>\n",
       "      <th>VolumeDeb_PaymentOrder</th>\n",
       "      <th>TransactionsDeb</th>\n",
       "      <th>TransactionsDeb_CA</th>\n",
       "      <th>TransactionsDebCash_Card</th>\n",
       "      <th>TransactionsDebCashless_Card</th>\n",
       "      <th>TransactionsDeb_PaymentOrder</th>\n",
       "    </tr>\n",
       "  </thead>\n",
       "  <tbody>\n",
       "    <tr>\n",
       "      <th>0</th>\n",
       "      <td>1</td>\n",
       "      <td>51</td>\n",
       "      <td>7</td>\n",
       "      <td>1</td>\n",
       "      <td>0</td>\n",
       "      <td>0</td>\n",
       "      <td>0.583333</td>\n",
       "      <td>1</td>\n",
       "      <td>0.0</td>\n",
       "      <td>0.0</td>\n",
       "      <td>...</td>\n",
       "      <td>1891.353214</td>\n",
       "      <td>1335.619643</td>\n",
       "      <td>250.000000</td>\n",
       "      <td>283.089286</td>\n",
       "      <td>247.607143</td>\n",
       "      <td>50</td>\n",
       "      <td>30</td>\n",
       "      <td>3</td>\n",
       "      <td>12</td>\n",
       "      <td>9</td>\n",
       "    </tr>\n",
       "    <tr>\n",
       "      <th>1</th>\n",
       "      <td>2</td>\n",
       "      <td>43</td>\n",
       "      <td>152</td>\n",
       "      <td>0</td>\n",
       "      <td>1</td>\n",
       "      <td>0</td>\n",
       "      <td>12.666667</td>\n",
       "      <td>1</td>\n",
       "      <td>1.0</td>\n",
       "      <td>0.0</td>\n",
       "      <td>...</td>\n",
       "      <td>386.442857</td>\n",
       "      <td>386.442857</td>\n",
       "      <td>307.142857</td>\n",
       "      <td>38.407143</td>\n",
       "      <td>35.714286</td>\n",
       "      <td>6</td>\n",
       "      <td>6</td>\n",
       "      <td>2</td>\n",
       "      <td>2</td>\n",
       "      <td>1</td>\n",
       "    </tr>\n",
       "    <tr>\n",
       "      <th>2</th>\n",
       "      <td>3</td>\n",
       "      <td>17</td>\n",
       "      <td>140</td>\n",
       "      <td>0</td>\n",
       "      <td>1</td>\n",
       "      <td>0</td>\n",
       "      <td>11.666667</td>\n",
       "      <td>1</td>\n",
       "      <td>0.0</td>\n",
       "      <td>1.0</td>\n",
       "      <td>...</td>\n",
       "      <td>123.750000</td>\n",
       "      <td>123.750000</td>\n",
       "      <td>0.000000</td>\n",
       "      <td>112.857143</td>\n",
       "      <td>10.678571</td>\n",
       "      <td>3</td>\n",
       "      <td>3</td>\n",
       "      <td>0</td>\n",
       "      <td>1</td>\n",
       "      <td>1</td>\n",
       "    </tr>\n",
       "    <tr>\n",
       "      <th>3</th>\n",
       "      <td>4</td>\n",
       "      <td>24</td>\n",
       "      <td>153</td>\n",
       "      <td>0</td>\n",
       "      <td>1</td>\n",
       "      <td>0</td>\n",
       "      <td>12.750000</td>\n",
       "      <td>1</td>\n",
       "      <td>1.0</td>\n",
       "      <td>0.0</td>\n",
       "      <td>...</td>\n",
       "      <td>3614.747500</td>\n",
       "      <td>3598.950357</td>\n",
       "      <td>714.285714</td>\n",
       "      <td>526.037500</td>\n",
       "      <td>1963.165357</td>\n",
       "      <td>41</td>\n",
       "      <td>36</td>\n",
       "      <td>6</td>\n",
       "      <td>12</td>\n",
       "      <td>13</td>\n",
       "    </tr>\n",
       "    <tr>\n",
       "      <th>4</th>\n",
       "      <td>5</td>\n",
       "      <td>58</td>\n",
       "      <td>200</td>\n",
       "      <td>1</td>\n",
       "      <td>0</td>\n",
       "      <td>0</td>\n",
       "      <td>16.666667</td>\n",
       "      <td>1</td>\n",
       "      <td>1.0</td>\n",
       "      <td>0.0</td>\n",
       "      <td>...</td>\n",
       "      <td>5868.460714</td>\n",
       "      <td>4031.925000</td>\n",
       "      <td>157.142857</td>\n",
       "      <td>832.175000</td>\n",
       "      <td>1779.571429</td>\n",
       "      <td>44</td>\n",
       "      <td>41</td>\n",
       "      <td>4</td>\n",
       "      <td>17</td>\n",
       "      <td>13</td>\n",
       "    </tr>\n",
       "  </tbody>\n",
       "</table>\n",
       "<p>5 rows × 33 columns</p>\n",
       "</div>"
      ],
      "text/plain": [
       "   Client  Age  Tenure  Sex_F  Sex_M  Sex_Other  Tenure_years  Count_CA  \\\n",
       "0       1   51       7      1      0          0      0.583333         1   \n",
       "1       2   43     152      0      1          0     12.666667         1   \n",
       "2       3   17     140      0      1          0     11.666667         1   \n",
       "3       4   24     153      0      1          0     12.750000         1   \n",
       "4       5   58     200      1      0          0     16.666667         1   \n",
       "\n",
       "   Count_SA  Count_MF  ...    VolumeDeb  VolumeDeb_CA  VolumeDebCash_Card  \\\n",
       "0       0.0       0.0  ...  1891.353214   1335.619643          250.000000   \n",
       "1       1.0       0.0  ...   386.442857    386.442857          307.142857   \n",
       "2       0.0       1.0  ...   123.750000    123.750000            0.000000   \n",
       "3       1.0       0.0  ...  3614.747500   3598.950357          714.285714   \n",
       "4       1.0       0.0  ...  5868.460714   4031.925000          157.142857   \n",
       "\n",
       "   VolumeDebCashless_Card  VolumeDeb_PaymentOrder  TransactionsDeb  \\\n",
       "0              283.089286              247.607143               50   \n",
       "1               38.407143               35.714286                6   \n",
       "2              112.857143               10.678571                3   \n",
       "3              526.037500             1963.165357               41   \n",
       "4              832.175000             1779.571429               44   \n",
       "\n",
       "   TransactionsDeb_CA  TransactionsDebCash_Card  TransactionsDebCashless_Card  \\\n",
       "0                  30                         3                            12   \n",
       "1                   6                         2                             2   \n",
       "2                   3                         0                             1   \n",
       "3                  36                         6                            12   \n",
       "4                  41                         4                            17   \n",
       "\n",
       "   TransactionsDeb_PaymentOrder  \n",
       "0                             9  \n",
       "1                             1  \n",
       "2                             1  \n",
       "3                            13  \n",
       "4                            13  \n",
       "\n",
       "[5 rows x 33 columns]"
      ]
     },
     "execution_count": 208,
     "metadata": {},
     "output_type": "execute_result"
    }
   ],
   "source": [
    "demo_balance_inflow.head()"
   ]
  },
  {
   "cell_type": "markdown",
   "id": "183d081b",
   "metadata": {},
   "source": [
    "Delete records where a minor client holds either a consumer loan or a credit card. Note that a minor client can have a mutual fund account in their name, with the guidance of an adult family member. "
   ]
  },
  {
   "cell_type": "code",
   "execution_count": 209,
   "id": "ff2f215a",
   "metadata": {},
   "outputs": [
    {
     "data": {
      "text/plain": [
       "(1531, 33)"
      ]
     },
     "execution_count": 209,
     "metadata": {},
     "output_type": "execute_result"
    }
   ],
   "source": [
    "# delete all records where a client with age < 18 has either a credit card or consumer loan. \n",
    "# Note: Minor clients can only have mutual funds in their name\n",
    "index=demo_balance_inflow[(demo_balance_inflow['Age']<18) & ((demo_balance_inflow['Count_CL'] > 0)| (demo_balance_inflow['Count_CC'] > 0))].index\n",
    "demo_balance_inflow.drop(index,inplace=True)\n",
    "demo_balance_inflow.shape"
   ]
  },
  {
   "cell_type": "code",
   "execution_count": 210,
   "id": "77c8dced",
   "metadata": {},
   "outputs": [
    {
     "data": {
      "text/plain": [
       "(911, 39)"
      ]
     },
     "execution_count": 210,
     "metadata": {},
     "output_type": "execute_result"
    }
   ],
   "source": [
    "data=demo_balance_inflow.merge(sales_revenue,on=\"Client\")\n",
    "data.shape"
   ]
  },
  {
   "cell_type": "code",
   "execution_count": 211,
   "id": "a3e165bf",
   "metadata": {},
   "outputs": [],
   "source": [
    "# Random filter check on final merged data\n",
    "data[(data['Age']<18) & (data['Count_CL']>0)]\n",
    "raw_data=data.copy()"
   ]
  },
  {
   "cell_type": "code",
   "execution_count": 212,
   "id": "0547da12",
   "metadata": {},
   "outputs": [
    {
     "name": "stdout",
     "output_type": "stream",
     "text": [
      "Columns with null values in the data:\n",
      "Client                          0\n",
      "Age                             0\n",
      "Tenure                          0\n",
      "Sex_F                           0\n",
      "Sex_M                           0\n",
      "Sex_Other                       0\n",
      "Tenure_years                    0\n",
      "Count_CA                        0\n",
      "Count_SA                        0\n",
      "Count_MF                        0\n",
      "Count_OVD                       0\n",
      "Count_CC                        0\n",
      "Count_CL                        0\n",
      "ActBal_CA                       0\n",
      "ActBal_SA                       0\n",
      "ActBal_MF                       0\n",
      "ActBal_OVD                      0\n",
      "ActBal_CC                       0\n",
      "ActBal_CL                       0\n",
      "VolumeCred                      0\n",
      "VolumeCred_CA                   0\n",
      "TransactionsCred                0\n",
      "TransactionsCred_CA             0\n",
      "VolumeDeb                       0\n",
      "VolumeDeb_CA                    0\n",
      "VolumeDebCash_Card              0\n",
      "VolumeDebCashless_Card          0\n",
      "VolumeDeb_PaymentOrder          0\n",
      "TransactionsDeb                 0\n",
      "TransactionsDeb_CA              0\n",
      "TransactionsDebCash_Card        0\n",
      "TransactionsDebCashless_Card    0\n",
      "TransactionsDeb_PaymentOrder    0\n",
      "Sale_MF                         0\n",
      "Sale_CC                         0\n",
      "Sale_CL                         0\n",
      "Revenue_MF                      0\n",
      "Revenue_CC                      0\n",
      "Revenue_CL                      0\n",
      "dtype: int64\n"
     ]
    }
   ],
   "source": [
    "print('Columns with null values in the data:',raw_data.isnull().sum(), sep = '\\n')"
   ]
  },
  {
   "cell_type": "markdown",
   "id": "2fb8c70d",
   "metadata": {},
   "source": [
    "### Normalizing the features "
   ]
  },
  {
   "cell_type": "markdown",
   "id": "c23c2625",
   "metadata": {},
   "source": [
    "Normalize all features to the range [0,1], except Client_ID. This is done to optimize the training process of the machine learning model. "
   ]
  },
  {
   "cell_type": "code",
   "execution_count": 213,
   "id": "8e48c347",
   "metadata": {},
   "outputs": [],
   "source": [
    "# Perform min-max normalization\n",
    "scaler = MinMaxScaler()\n",
    "data.iloc[:,1:33] = scaler.fit_transform(data.iloc[:,1:33])\n",
    "\n",
    "# convert the array back to a dataframe\n",
    "data_norm = DataFrame(data)"
   ]
  },
  {
   "cell_type": "code",
   "execution_count": 214,
   "id": "6ea601f8",
   "metadata": {},
   "outputs": [
    {
     "data": {
      "text/html": [
       "<div>\n",
       "<style scoped>\n",
       "    .dataframe tbody tr th:only-of-type {\n",
       "        vertical-align: middle;\n",
       "    }\n",
       "\n",
       "    .dataframe tbody tr th {\n",
       "        vertical-align: top;\n",
       "    }\n",
       "\n",
       "    .dataframe thead th {\n",
       "        text-align: right;\n",
       "    }\n",
       "</style>\n",
       "<table border=\"1\" class=\"dataframe\">\n",
       "  <thead>\n",
       "    <tr style=\"text-align: right;\">\n",
       "      <th></th>\n",
       "      <th>Client</th>\n",
       "      <th>Age</th>\n",
       "      <th>Tenure</th>\n",
       "      <th>Sex_F</th>\n",
       "      <th>Sex_M</th>\n",
       "      <th>Sex_Other</th>\n",
       "      <th>Tenure_years</th>\n",
       "      <th>Count_CA</th>\n",
       "      <th>Count_SA</th>\n",
       "      <th>Count_MF</th>\n",
       "      <th>...</th>\n",
       "      <th>TransactionsDeb_CA</th>\n",
       "      <th>TransactionsDebCash_Card</th>\n",
       "      <th>TransactionsDebCashless_Card</th>\n",
       "      <th>TransactionsDeb_PaymentOrder</th>\n",
       "      <th>Sale_MF</th>\n",
       "      <th>Sale_CC</th>\n",
       "      <th>Sale_CL</th>\n",
       "      <th>Revenue_MF</th>\n",
       "      <th>Revenue_CC</th>\n",
       "      <th>Revenue_CL</th>\n",
       "    </tr>\n",
       "  </thead>\n",
       "  <tbody>\n",
       "    <tr>\n",
       "      <th>count</th>\n",
       "      <td>911.000000</td>\n",
       "      <td>911.000000</td>\n",
       "      <td>911.000000</td>\n",
       "      <td>911.000000</td>\n",
       "      <td>911.000000</td>\n",
       "      <td>911.000000</td>\n",
       "      <td>911.000000</td>\n",
       "      <td>911.000000</td>\n",
       "      <td>911.000000</td>\n",
       "      <td>911.000000</td>\n",
       "      <td>...</td>\n",
       "      <td>911.000000</td>\n",
       "      <td>911.000000</td>\n",
       "      <td>911.000000</td>\n",
       "      <td>911.000000</td>\n",
       "      <td>911.000000</td>\n",
       "      <td>911.000000</td>\n",
       "      <td>911.000000</td>\n",
       "      <td>911.000000</td>\n",
       "      <td>911.000000</td>\n",
       "      <td>911.000000</td>\n",
       "    </tr>\n",
       "    <tr>\n",
       "      <th>mean</th>\n",
       "      <td>810.196487</td>\n",
       "      <td>0.464661</td>\n",
       "      <td>0.364123</td>\n",
       "      <td>0.462130</td>\n",
       "      <td>0.535675</td>\n",
       "      <td>0.002195</td>\n",
       "      <td>0.364123</td>\n",
       "      <td>0.025979</td>\n",
       "      <td>0.109404</td>\n",
       "      <td>0.011922</td>\n",
       "      <td>...</td>\n",
       "      <td>0.167894</td>\n",
       "      <td>0.081537</td>\n",
       "      <td>0.090011</td>\n",
       "      <td>0.137890</td>\n",
       "      <td>0.205269</td>\n",
       "      <td>0.251372</td>\n",
       "      <td>0.290889</td>\n",
       "      <td>1.985947</td>\n",
       "      <td>2.822308</td>\n",
       "      <td>3.441812</td>\n",
       "    </tr>\n",
       "    <tr>\n",
       "      <th>std</th>\n",
       "      <td>463.669169</td>\n",
       "      <td>0.204704</td>\n",
       "      <td>0.239767</td>\n",
       "      <td>0.498838</td>\n",
       "      <td>0.499000</td>\n",
       "      <td>0.046829</td>\n",
       "      <td>0.239767</td>\n",
       "      <td>0.110204</td>\n",
       "      <td>0.194197</td>\n",
       "      <td>0.052758</td>\n",
       "      <td>...</td>\n",
       "      <td>0.158217</td>\n",
       "      <td>0.108857</td>\n",
       "      <td>0.140808</td>\n",
       "      <td>0.155307</td>\n",
       "      <td>0.404120</td>\n",
       "      <td>0.434040</td>\n",
       "      <td>0.454422</td>\n",
       "      <td>10.183239</td>\n",
       "      <td>18.231940</td>\n",
       "      <td>7.607763</td>\n",
       "    </tr>\n",
       "    <tr>\n",
       "      <th>min</th>\n",
       "      <td>1.000000</td>\n",
       "      <td>0.000000</td>\n",
       "      <td>0.000000</td>\n",
       "      <td>0.000000</td>\n",
       "      <td>0.000000</td>\n",
       "      <td>0.000000</td>\n",
       "      <td>0.000000</td>\n",
       "      <td>0.000000</td>\n",
       "      <td>0.000000</td>\n",
       "      <td>0.000000</td>\n",
       "      <td>...</td>\n",
       "      <td>0.000000</td>\n",
       "      <td>0.000000</td>\n",
       "      <td>0.000000</td>\n",
       "      <td>0.000000</td>\n",
       "      <td>0.000000</td>\n",
       "      <td>0.000000</td>\n",
       "      <td>0.000000</td>\n",
       "      <td>0.000000</td>\n",
       "      <td>0.000000</td>\n",
       "      <td>0.000000</td>\n",
       "    </tr>\n",
       "    <tr>\n",
       "      <th>25%</th>\n",
       "      <td>420.500000</td>\n",
       "      <td>0.294118</td>\n",
       "      <td>0.147601</td>\n",
       "      <td>0.000000</td>\n",
       "      <td>0.000000</td>\n",
       "      <td>0.000000</td>\n",
       "      <td>0.147601</td>\n",
       "      <td>0.000000</td>\n",
       "      <td>0.000000</td>\n",
       "      <td>0.000000</td>\n",
       "      <td>...</td>\n",
       "      <td>0.048193</td>\n",
       "      <td>0.000000</td>\n",
       "      <td>0.000000</td>\n",
       "      <td>0.000000</td>\n",
       "      <td>0.000000</td>\n",
       "      <td>0.000000</td>\n",
       "      <td>0.000000</td>\n",
       "      <td>0.000000</td>\n",
       "      <td>0.000000</td>\n",
       "      <td>0.000000</td>\n",
       "    </tr>\n",
       "    <tr>\n",
       "      <th>50%</th>\n",
       "      <td>812.000000</td>\n",
       "      <td>0.435294</td>\n",
       "      <td>0.339483</td>\n",
       "      <td>0.000000</td>\n",
       "      <td>1.000000</td>\n",
       "      <td>0.000000</td>\n",
       "      <td>0.339483</td>\n",
       "      <td>0.000000</td>\n",
       "      <td>0.000000</td>\n",
       "      <td>0.000000</td>\n",
       "      <td>...</td>\n",
       "      <td>0.132530</td>\n",
       "      <td>0.040000</td>\n",
       "      <td>0.033333</td>\n",
       "      <td>0.088235</td>\n",
       "      <td>0.000000</td>\n",
       "      <td>0.000000</td>\n",
       "      <td>0.000000</td>\n",
       "      <td>0.000000</td>\n",
       "      <td>0.000000</td>\n",
       "      <td>0.000000</td>\n",
       "    </tr>\n",
       "    <tr>\n",
       "      <th>75%</th>\n",
       "      <td>1213.500000</td>\n",
       "      <td>0.635294</td>\n",
       "      <td>0.557196</td>\n",
       "      <td>1.000000</td>\n",
       "      <td>1.000000</td>\n",
       "      <td>0.000000</td>\n",
       "      <td>0.557196</td>\n",
       "      <td>0.000000</td>\n",
       "      <td>0.333333</td>\n",
       "      <td>0.000000</td>\n",
       "      <td>...</td>\n",
       "      <td>0.228916</td>\n",
       "      <td>0.120000</td>\n",
       "      <td>0.116667</td>\n",
       "      <td>0.205882</td>\n",
       "      <td>0.000000</td>\n",
       "      <td>1.000000</td>\n",
       "      <td>1.000000</td>\n",
       "      <td>0.000000</td>\n",
       "      <td>0.142857</td>\n",
       "      <td>4.250000</td>\n",
       "    </tr>\n",
       "    <tr>\n",
       "      <th>max</th>\n",
       "      <td>1613.000000</td>\n",
       "      <td>1.000000</td>\n",
       "      <td>1.000000</td>\n",
       "      <td>1.000000</td>\n",
       "      <td>1.000000</td>\n",
       "      <td>1.000000</td>\n",
       "      <td>1.000000</td>\n",
       "      <td>1.000000</td>\n",
       "      <td>1.000000</td>\n",
       "      <td>1.000000</td>\n",
       "      <td>...</td>\n",
       "      <td>1.000000</td>\n",
       "      <td>1.000000</td>\n",
       "      <td>1.000000</td>\n",
       "      <td>1.000000</td>\n",
       "      <td>1.000000</td>\n",
       "      <td>1.000000</td>\n",
       "      <td>1.000000</td>\n",
       "      <td>220.488214</td>\n",
       "      <td>407.962500</td>\n",
       "      <td>133.275357</td>\n",
       "    </tr>\n",
       "  </tbody>\n",
       "</table>\n",
       "<p>8 rows × 39 columns</p>\n",
       "</div>"
      ],
      "text/plain": [
       "            Client         Age      Tenure       Sex_F       Sex_M  \\\n",
       "count   911.000000  911.000000  911.000000  911.000000  911.000000   \n",
       "mean    810.196487    0.464661    0.364123    0.462130    0.535675   \n",
       "std     463.669169    0.204704    0.239767    0.498838    0.499000   \n",
       "min       1.000000    0.000000    0.000000    0.000000    0.000000   \n",
       "25%     420.500000    0.294118    0.147601    0.000000    0.000000   \n",
       "50%     812.000000    0.435294    0.339483    0.000000    1.000000   \n",
       "75%    1213.500000    0.635294    0.557196    1.000000    1.000000   \n",
       "max    1613.000000    1.000000    1.000000    1.000000    1.000000   \n",
       "\n",
       "        Sex_Other  Tenure_years    Count_CA    Count_SA    Count_MF  ...  \\\n",
       "count  911.000000    911.000000  911.000000  911.000000  911.000000  ...   \n",
       "mean     0.002195      0.364123    0.025979    0.109404    0.011922  ...   \n",
       "std      0.046829      0.239767    0.110204    0.194197    0.052758  ...   \n",
       "min      0.000000      0.000000    0.000000    0.000000    0.000000  ...   \n",
       "25%      0.000000      0.147601    0.000000    0.000000    0.000000  ...   \n",
       "50%      0.000000      0.339483    0.000000    0.000000    0.000000  ...   \n",
       "75%      0.000000      0.557196    0.000000    0.333333    0.000000  ...   \n",
       "max      1.000000      1.000000    1.000000    1.000000    1.000000  ...   \n",
       "\n",
       "       TransactionsDeb_CA  TransactionsDebCash_Card  \\\n",
       "count          911.000000                911.000000   \n",
       "mean             0.167894                  0.081537   \n",
       "std              0.158217                  0.108857   \n",
       "min              0.000000                  0.000000   \n",
       "25%              0.048193                  0.000000   \n",
       "50%              0.132530                  0.040000   \n",
       "75%              0.228916                  0.120000   \n",
       "max              1.000000                  1.000000   \n",
       "\n",
       "       TransactionsDebCashless_Card  TransactionsDeb_PaymentOrder     Sale_MF  \\\n",
       "count                    911.000000                    911.000000  911.000000   \n",
       "mean                       0.090011                      0.137890    0.205269   \n",
       "std                        0.140808                      0.155307    0.404120   \n",
       "min                        0.000000                      0.000000    0.000000   \n",
       "25%                        0.000000                      0.000000    0.000000   \n",
       "50%                        0.033333                      0.088235    0.000000   \n",
       "75%                        0.116667                      0.205882    0.000000   \n",
       "max                        1.000000                      1.000000    1.000000   \n",
       "\n",
       "          Sale_CC     Sale_CL  Revenue_MF  Revenue_CC  Revenue_CL  \n",
       "count  911.000000  911.000000  911.000000  911.000000  911.000000  \n",
       "mean     0.251372    0.290889    1.985947    2.822308    3.441812  \n",
       "std      0.434040    0.454422   10.183239   18.231940    7.607763  \n",
       "min      0.000000    0.000000    0.000000    0.000000    0.000000  \n",
       "25%      0.000000    0.000000    0.000000    0.000000    0.000000  \n",
       "50%      0.000000    0.000000    0.000000    0.000000    0.000000  \n",
       "75%      1.000000    1.000000    0.000000    0.142857    4.250000  \n",
       "max      1.000000    1.000000  220.488214  407.962500  133.275357  \n",
       "\n",
       "[8 rows x 39 columns]"
      ]
     },
     "execution_count": 214,
     "metadata": {},
     "output_type": "execute_result"
    }
   ],
   "source": [
    "data_norm.describe()"
   ]
  },
  {
   "cell_type": "code",
   "execution_count": 215,
   "id": "30c8c8c3",
   "metadata": {},
   "outputs": [
    {
     "data": {
      "text/plain": [
       "(911, 39)"
      ]
     },
     "execution_count": 215,
     "metadata": {},
     "output_type": "execute_result"
    }
   ],
   "source": [
    "data_norm.shape"
   ]
  },
  {
   "cell_type": "code",
   "execution_count": 216,
   "id": "fdfffd3b",
   "metadata": {},
   "outputs": [
    {
     "data": {
      "text/html": [
       "<div>\n",
       "<style scoped>\n",
       "    .dataframe tbody tr th:only-of-type {\n",
       "        vertical-align: middle;\n",
       "    }\n",
       "\n",
       "    .dataframe tbody tr th {\n",
       "        vertical-align: top;\n",
       "    }\n",
       "\n",
       "    .dataframe thead th {\n",
       "        text-align: right;\n",
       "    }\n",
       "</style>\n",
       "<table border=\"1\" class=\"dataframe\">\n",
       "  <thead>\n",
       "    <tr style=\"text-align: right;\">\n",
       "      <th></th>\n",
       "      <th>Client</th>\n",
       "      <th>Age</th>\n",
       "      <th>Tenure</th>\n",
       "      <th>Sex_F</th>\n",
       "      <th>Sex_M</th>\n",
       "      <th>Sex_Other</th>\n",
       "      <th>Tenure_years</th>\n",
       "      <th>Count_CA</th>\n",
       "      <th>Count_SA</th>\n",
       "      <th>Count_MF</th>\n",
       "      <th>...</th>\n",
       "      <th>TransactionsDeb_CA</th>\n",
       "      <th>TransactionsDebCash_Card</th>\n",
       "      <th>TransactionsDebCashless_Card</th>\n",
       "      <th>TransactionsDeb_PaymentOrder</th>\n",
       "      <th>Sale_MF</th>\n",
       "      <th>Sale_CC</th>\n",
       "      <th>Sale_CL</th>\n",
       "      <th>Revenue_MF</th>\n",
       "      <th>Revenue_CC</th>\n",
       "      <th>Revenue_CL</th>\n",
       "    </tr>\n",
       "  </thead>\n",
       "  <tbody>\n",
       "    <tr>\n",
       "      <th>0</th>\n",
       "      <td>1</td>\n",
       "      <td>0.541176</td>\n",
       "      <td>0.025830</td>\n",
       "      <td>1.0</td>\n",
       "      <td>0.0</td>\n",
       "      <td>0.0</td>\n",
       "      <td>0.025830</td>\n",
       "      <td>0.0</td>\n",
       "      <td>0.000000</td>\n",
       "      <td>0.0</td>\n",
       "      <td>...</td>\n",
       "      <td>0.361446</td>\n",
       "      <td>0.12</td>\n",
       "      <td>0.200000</td>\n",
       "      <td>0.264706</td>\n",
       "      <td>1</td>\n",
       "      <td>0</td>\n",
       "      <td>0</td>\n",
       "      <td>26.972679</td>\n",
       "      <td>0.0</td>\n",
       "      <td>0.0</td>\n",
       "    </tr>\n",
       "    <tr>\n",
       "      <th>1</th>\n",
       "      <td>2</td>\n",
       "      <td>0.447059</td>\n",
       "      <td>0.560886</td>\n",
       "      <td>0.0</td>\n",
       "      <td>1.0</td>\n",
       "      <td>0.0</td>\n",
       "      <td>0.560886</td>\n",
       "      <td>0.0</td>\n",
       "      <td>0.333333</td>\n",
       "      <td>0.0</td>\n",
       "      <td>...</td>\n",
       "      <td>0.072289</td>\n",
       "      <td>0.08</td>\n",
       "      <td>0.033333</td>\n",
       "      <td>0.029412</td>\n",
       "      <td>0</td>\n",
       "      <td>0</td>\n",
       "      <td>0</td>\n",
       "      <td>0.000000</td>\n",
       "      <td>0.0</td>\n",
       "      <td>0.0</td>\n",
       "    </tr>\n",
       "    <tr>\n",
       "      <th>2</th>\n",
       "      <td>6</td>\n",
       "      <td>0.223529</td>\n",
       "      <td>0.070111</td>\n",
       "      <td>1.0</td>\n",
       "      <td>0.0</td>\n",
       "      <td>0.0</td>\n",
       "      <td>0.070111</td>\n",
       "      <td>0.0</td>\n",
       "      <td>0.000000</td>\n",
       "      <td>0.0</td>\n",
       "      <td>...</td>\n",
       "      <td>0.072289</td>\n",
       "      <td>0.04</td>\n",
       "      <td>0.000000</td>\n",
       "      <td>0.000000</td>\n",
       "      <td>0</td>\n",
       "      <td>0</td>\n",
       "      <td>0</td>\n",
       "      <td>0.000000</td>\n",
       "      <td>0.0</td>\n",
       "      <td>0.0</td>\n",
       "    </tr>\n",
       "    <tr>\n",
       "      <th>3</th>\n",
       "      <td>8</td>\n",
       "      <td>0.694118</td>\n",
       "      <td>0.110701</td>\n",
       "      <td>1.0</td>\n",
       "      <td>0.0</td>\n",
       "      <td>0.0</td>\n",
       "      <td>0.110701</td>\n",
       "      <td>0.0</td>\n",
       "      <td>0.000000</td>\n",
       "      <td>0.0</td>\n",
       "      <td>...</td>\n",
       "      <td>0.289157</td>\n",
       "      <td>0.40</td>\n",
       "      <td>0.016667</td>\n",
       "      <td>0.000000</td>\n",
       "      <td>0</td>\n",
       "      <td>0</td>\n",
       "      <td>0</td>\n",
       "      <td>0.000000</td>\n",
       "      <td>0.0</td>\n",
       "      <td>0.0</td>\n",
       "    </tr>\n",
       "    <tr>\n",
       "      <th>4</th>\n",
       "      <td>13</td>\n",
       "      <td>0.717647</td>\n",
       "      <td>0.487085</td>\n",
       "      <td>1.0</td>\n",
       "      <td>0.0</td>\n",
       "      <td>0.0</td>\n",
       "      <td>0.487085</td>\n",
       "      <td>0.0</td>\n",
       "      <td>0.333333</td>\n",
       "      <td>0.0</td>\n",
       "      <td>...</td>\n",
       "      <td>0.469880</td>\n",
       "      <td>0.24</td>\n",
       "      <td>0.283333</td>\n",
       "      <td>0.294118</td>\n",
       "      <td>0</td>\n",
       "      <td>0</td>\n",
       "      <td>0</td>\n",
       "      <td>0.000000</td>\n",
       "      <td>0.0</td>\n",
       "      <td>0.0</td>\n",
       "    </tr>\n",
       "  </tbody>\n",
       "</table>\n",
       "<p>5 rows × 39 columns</p>\n",
       "</div>"
      ],
      "text/plain": [
       "   Client       Age    Tenure  Sex_F  Sex_M  Sex_Other  Tenure_years  \\\n",
       "0       1  0.541176  0.025830    1.0    0.0        0.0      0.025830   \n",
       "1       2  0.447059  0.560886    0.0    1.0        0.0      0.560886   \n",
       "2       6  0.223529  0.070111    1.0    0.0        0.0      0.070111   \n",
       "3       8  0.694118  0.110701    1.0    0.0        0.0      0.110701   \n",
       "4      13  0.717647  0.487085    1.0    0.0        0.0      0.487085   \n",
       "\n",
       "   Count_CA  Count_SA  Count_MF  ...  TransactionsDeb_CA  \\\n",
       "0       0.0  0.000000       0.0  ...            0.361446   \n",
       "1       0.0  0.333333       0.0  ...            0.072289   \n",
       "2       0.0  0.000000       0.0  ...            0.072289   \n",
       "3       0.0  0.000000       0.0  ...            0.289157   \n",
       "4       0.0  0.333333       0.0  ...            0.469880   \n",
       "\n",
       "   TransactionsDebCash_Card  TransactionsDebCashless_Card  \\\n",
       "0                      0.12                      0.200000   \n",
       "1                      0.08                      0.033333   \n",
       "2                      0.04                      0.000000   \n",
       "3                      0.40                      0.016667   \n",
       "4                      0.24                      0.283333   \n",
       "\n",
       "   TransactionsDeb_PaymentOrder  Sale_MF  Sale_CC  Sale_CL  Revenue_MF  \\\n",
       "0                      0.264706        1        0        0   26.972679   \n",
       "1                      0.029412        0        0        0    0.000000   \n",
       "2                      0.000000        0        0        0    0.000000   \n",
       "3                      0.000000        0        0        0    0.000000   \n",
       "4                      0.294118        0        0        0    0.000000   \n",
       "\n",
       "   Revenue_CC  Revenue_CL  \n",
       "0         0.0         0.0  \n",
       "1         0.0         0.0  \n",
       "2         0.0         0.0  \n",
       "3         0.0         0.0  \n",
       "4         0.0         0.0  \n",
       "\n",
       "[5 rows x 39 columns]"
      ]
     },
     "execution_count": 216,
     "metadata": {},
     "output_type": "execute_result"
    }
   ],
   "source": [
    "data_norm.head()"
   ]
  },
  {
   "cell_type": "markdown",
   "id": "a156e301",
   "metadata": {},
   "source": [
    "## Model for customer propensity to buy mutual funds"
   ]
  },
  {
   "cell_type": "code",
   "execution_count": 217,
   "id": "3c895c6e",
   "metadata": {},
   "outputs": [],
   "source": [
    "# Using normalized data\n",
    "X=data_norm.iloc[:,:33] \n",
    "y=data_norm.iloc[:,33] \n",
    "revenue_MF = data_norm.loc[:,'Revenue_MF']\n",
    "X_revenue=pd.concat([X,revenue_MF],axis=1)"
   ]
  },
  {
   "cell_type": "code",
   "execution_count": 218,
   "id": "41c895f0",
   "metadata": {},
   "outputs": [],
   "source": [
    "# Splitting data into training and test sets\n",
    "X_train, X_test, y_train, y_test = train_test_split(X,y,test_size=0.15, random_state=0,stratify=y) "
   ]
  },
  {
   "cell_type": "markdown",
   "id": "8743fcd9",
   "metadata": {},
   "source": [
    "### Training a Decision Tree Classifier"
   ]
  },
  {
   "cell_type": "code",
   "execution_count": 219,
   "id": "f0be6c11",
   "metadata": {},
   "outputs": [
    {
     "name": "stdout",
     "output_type": "stream",
     "text": [
      "              precision    recall  f1-score   support\n",
      "\n",
      "           0       0.82      0.94      0.88       109\n",
      "           1       0.46      0.21      0.29        28\n",
      "\n",
      "    accuracy                           0.79       137\n",
      "   macro avg       0.64      0.58      0.58       137\n",
      "weighted avg       0.75      0.79      0.76       137\n",
      "\n"
     ]
    }
   ],
   "source": [
    "# define the model and fit to training data\n",
    "#weights={0:1.0,1:10.0}\n",
    "model_gini=DecisionTreeClassifier(criterion='gini',max_depth=3,class_weight=\"balanced\",min_samples_leaf=5)\n",
    "model_gini=model_gini.fit(X_train,y_train)\n",
    "\n",
    "#get predictions from the model\n",
    "y_pred=model_gini.predict(X_test)\n",
    "target_names=['Sales_MF']\n",
    "print(classification_report(y_test,y_pred))"
   ]
  },
  {
   "cell_type": "code",
   "execution_count": 220,
   "id": "ec974146",
   "metadata": {},
   "outputs": [
    {
     "data": {
      "text/plain": [
       "array([0.46223224, 0.46223224, 0.        , 0.46223224, 0.8056065 ,\n",
       "       0.46223224, 0.        , 0.46223224, 0.46223224, 0.46223224,\n",
       "       0.46223224, 0.46223224, 0.46223224, 0.46223224, 0.46223224,\n",
       "       0.46223224, 0.46223224, 0.46223224, 0.46223224, 0.46223224,\n",
       "       0.46223224, 0.46223224, 0.46223224, 0.46223224, 0.46223224,\n",
       "       0.46223224, 0.46223224, 0.46223224, 0.46223224, 0.46223224,\n",
       "       0.88552916, 0.46223224, 0.46223224, 0.46223224, 0.46223224,\n",
       "       0.46223224, 0.46223224, 0.46223224, 0.46223224, 0.46223224,\n",
       "       0.46223224, 0.46223224, 0.46223224, 0.46223224, 0.46223224,\n",
       "       0.46223224, 0.46223224, 0.46223224, 0.46223224, 0.46223224,\n",
       "       0.46223224, 0.8056065 , 0.46223224, 0.46223224, 0.46223224,\n",
       "       0.46223224, 0.88552916, 0.46223224, 0.        , 0.46223224,\n",
       "       0.46223224, 0.46223224, 0.8056065 , 0.46223224, 0.46223224,\n",
       "       0.46223224, 0.46223224, 0.46223224, 0.46223224, 0.46223224,\n",
       "       0.8056065 , 0.46223224, 0.8056065 , 0.46223224, 0.46223224,\n",
       "       0.46223224, 0.        , 0.46223224, 0.46223224, 0.        ,\n",
       "       0.46223224, 0.46223224, 0.46223224, 0.46223224, 0.41289023,\n",
       "       0.46223224, 0.88552916, 0.46223224, 0.        , 0.46223224,\n",
       "       0.        , 0.46223224, 0.46223224, 0.46223224, 0.88552916,\n",
       "       0.46223224, 0.46223224, 0.46223224, 0.46223224, 0.46223224,\n",
       "       0.46223224, 0.46223224, 0.46223224, 0.        , 0.46223224,\n",
       "       0.46223224, 0.46223224, 0.46223224, 0.46223224, 0.88552916,\n",
       "       0.46223224, 0.8056065 , 0.        , 0.46223224, 0.        ,\n",
       "       0.46223224, 0.46223224, 0.46223224, 0.46223224, 0.46223224,\n",
       "       0.8056065 , 0.41289023, 0.46223224, 0.46223224, 0.46223224,\n",
       "       0.46223224, 0.46223224, 0.        , 0.8056065 , 0.46223224,\n",
       "       0.46223224, 0.46223224, 0.46223224, 0.46223224, 0.46223224,\n",
       "       0.46223224, 0.46223224])"
      ]
     },
     "execution_count": 220,
     "metadata": {},
     "output_type": "execute_result"
    }
   ],
   "source": [
    "# Predict propensity \n",
    "pred_prob=model_gini.predict_proba(X_test)[:,1]\n",
    "pred_prob"
   ]
  },
  {
   "cell_type": "code",
   "execution_count": 221,
   "id": "9de80e7d",
   "metadata": {},
   "outputs": [
    {
     "data": {
      "text/html": [
       "<div>\n",
       "<style scoped>\n",
       "    .dataframe tbody tr th:only-of-type {\n",
       "        vertical-align: middle;\n",
       "    }\n",
       "\n",
       "    .dataframe tbody tr th {\n",
       "        vertical-align: top;\n",
       "    }\n",
       "\n",
       "    .dataframe thead th {\n",
       "        text-align: right;\n",
       "    }\n",
       "</style>\n",
       "<table border=\"1\" class=\"dataframe\">\n",
       "  <thead>\n",
       "    <tr style=\"text-align: right;\">\n",
       "      <th></th>\n",
       "      <th>Client</th>\n",
       "      <th>Revenue</th>\n",
       "      <th>Propensity</th>\n",
       "      <th>Revenue_adjusted</th>\n",
       "    </tr>\n",
       "  </thead>\n",
       "  <tbody>\n",
       "    <tr>\n",
       "      <th>617</th>\n",
       "      <td>1091</td>\n",
       "      <td>4.910714</td>\n",
       "      <td>0.885529</td>\n",
       "      <td>4.348581</td>\n",
       "    </tr>\n",
       "    <tr>\n",
       "      <th>393</th>\n",
       "      <td>704</td>\n",
       "      <td>0.000000</td>\n",
       "      <td>0.885529</td>\n",
       "      <td>0.000000</td>\n",
       "    </tr>\n",
       "    <tr>\n",
       "      <th>208</th>\n",
       "      <td>388</td>\n",
       "      <td>0.000000</td>\n",
       "      <td>0.885529</td>\n",
       "      <td>0.000000</td>\n",
       "    </tr>\n",
       "    <tr>\n",
       "      <th>682</th>\n",
       "      <td>1213</td>\n",
       "      <td>0.000000</td>\n",
       "      <td>0.885529</td>\n",
       "      <td>0.000000</td>\n",
       "    </tr>\n",
       "    <tr>\n",
       "      <th>734</th>\n",
       "      <td>1302</td>\n",
       "      <td>10.126429</td>\n",
       "      <td>0.885529</td>\n",
       "      <td>8.967248</td>\n",
       "    </tr>\n",
       "    <tr>\n",
       "      <th>...</th>\n",
       "      <td>...</td>\n",
       "      <td>...</td>\n",
       "      <td>...</td>\n",
       "      <td>...</td>\n",
       "    </tr>\n",
       "    <tr>\n",
       "      <th>649</th>\n",
       "      <td>1158</td>\n",
       "      <td>1.656250</td>\n",
       "      <td>0.000000</td>\n",
       "      <td>0.000000</td>\n",
       "    </tr>\n",
       "    <tr>\n",
       "      <th>548</th>\n",
       "      <td>973</td>\n",
       "      <td>0.686429</td>\n",
       "      <td>0.000000</td>\n",
       "      <td>0.000000</td>\n",
       "    </tr>\n",
       "    <tr>\n",
       "      <th>642</th>\n",
       "      <td>1144</td>\n",
       "      <td>0.000000</td>\n",
       "      <td>0.000000</td>\n",
       "      <td>0.000000</td>\n",
       "    </tr>\n",
       "    <tr>\n",
       "      <th>754</th>\n",
       "      <td>1333</td>\n",
       "      <td>0.000000</td>\n",
       "      <td>0.000000</td>\n",
       "      <td>0.000000</td>\n",
       "    </tr>\n",
       "    <tr>\n",
       "      <th>530</th>\n",
       "      <td>938</td>\n",
       "      <td>0.000000</td>\n",
       "      <td>0.000000</td>\n",
       "      <td>0.000000</td>\n",
       "    </tr>\n",
       "  </tbody>\n",
       "</table>\n",
       "<p>137 rows × 4 columns</p>\n",
       "</div>"
      ],
      "text/plain": [
       "     Client    Revenue  Propensity  Revenue_adjusted\n",
       "617    1091   4.910714    0.885529          4.348581\n",
       "393     704   0.000000    0.885529          0.000000\n",
       "208     388   0.000000    0.885529          0.000000\n",
       "682    1213   0.000000    0.885529          0.000000\n",
       "734    1302  10.126429    0.885529          8.967248\n",
       "..      ...        ...         ...               ...\n",
       "649    1158   1.656250    0.000000          0.000000\n",
       "548     973   0.686429    0.000000          0.000000\n",
       "642    1144   0.000000    0.000000          0.000000\n",
       "754    1333   0.000000    0.000000          0.000000\n",
       "530     938   0.000000    0.000000          0.000000\n",
       "\n",
       "[137 rows x 4 columns]"
      ]
     },
     "execution_count": 221,
     "metadata": {},
     "output_type": "execute_result"
    }
   ],
   "source": [
    "clients=X_test.loc[:,'Client']\n",
    "revenue=data.query('Client in @clients')['Revenue_MF']\n",
    "propensity=pred_prob\n",
    "revenue_adjusted=revenue.multiply(propensity)\n",
    "\n",
    "Propensity_MF=pd.DataFrame({\"Client\":clients, \"Revenue\":revenue,\"Propensity\":propensity})\n",
    "Propensity_MF.sort_values(\"Propensity\",ascending=False,inplace=True)\n",
    "\n",
    "# Add adjusted revenue field by multiplying revenue and propensity to buy the corresponding product\n",
    "Propensity_MF['Revenue_adjusted'] = revenue_adjusted\n",
    "Propensity_MF.sort_values(\"Propensity\",ascending=False, inplace=True)\n",
    "Propensity_MF"
   ]
  },
  {
   "cell_type": "markdown",
   "id": "0410a98c",
   "metadata": {},
   "source": [
    "### Feature selection using Decision tree"
   ]
  },
  {
   "cell_type": "markdown",
   "id": "55e5f563",
   "metadata": {},
   "source": [
    "The goal is to use decision tree classifier to reduce dimensions of the data (feature selection), after which the machine learning model should be able to perform the same as before, or better."
   ]
  },
  {
   "cell_type": "code",
   "execution_count": 222,
   "id": "72d469ea",
   "metadata": {},
   "outputs": [
    {
     "data": {
      "text/html": [
       "<div>\n",
       "<style scoped>\n",
       "    .dataframe tbody tr th:only-of-type {\n",
       "        vertical-align: middle;\n",
       "    }\n",
       "\n",
       "    .dataframe tbody tr th {\n",
       "        vertical-align: top;\n",
       "    }\n",
       "\n",
       "    .dataframe thead th {\n",
       "        text-align: right;\n",
       "    }\n",
       "</style>\n",
       "<table border=\"1\" class=\"dataframe\">\n",
       "  <thead>\n",
       "    <tr style=\"text-align: right;\">\n",
       "      <th></th>\n",
       "      <th>Importance</th>\n",
       "    </tr>\n",
       "    <tr>\n",
       "      <th>Feature</th>\n",
       "      <th></th>\n",
       "    </tr>\n",
       "  </thead>\n",
       "  <tbody>\n",
       "    <tr>\n",
       "      <th>Client</th>\n",
       "      <td>0.120214</td>\n",
       "    </tr>\n",
       "    <tr>\n",
       "      <th>VolumeDeb_CA</th>\n",
       "      <td>0.081157</td>\n",
       "    </tr>\n",
       "    <tr>\n",
       "      <th>VolumeCred_CA</th>\n",
       "      <td>0.081144</td>\n",
       "    </tr>\n",
       "    <tr>\n",
       "      <th>Age</th>\n",
       "      <td>0.075070</td>\n",
       "    </tr>\n",
       "    <tr>\n",
       "      <th>ActBal_CA</th>\n",
       "      <td>0.073411</td>\n",
       "    </tr>\n",
       "    <tr>\n",
       "      <th>VolumeDebCashless_Card</th>\n",
       "      <td>0.072251</td>\n",
       "    </tr>\n",
       "    <tr>\n",
       "      <th>Tenure_years</th>\n",
       "      <td>0.062394</td>\n",
       "    </tr>\n",
       "    <tr>\n",
       "      <th>TransactionsDebCashless_Card</th>\n",
       "      <td>0.042801</td>\n",
       "    </tr>\n",
       "    <tr>\n",
       "      <th>VolumeDebCash_Card</th>\n",
       "      <td>0.040588</td>\n",
       "    </tr>\n",
       "    <tr>\n",
       "      <th>VolumeDeb_PaymentOrder</th>\n",
       "      <td>0.040332</td>\n",
       "    </tr>\n",
       "    <tr>\n",
       "      <th>ActBal_SA</th>\n",
       "      <td>0.037469</td>\n",
       "    </tr>\n",
       "    <tr>\n",
       "      <th>ActBal_MF</th>\n",
       "      <td>0.032831</td>\n",
       "    </tr>\n",
       "    <tr>\n",
       "      <th>Count_MF</th>\n",
       "      <td>0.032688</td>\n",
       "    </tr>\n",
       "    <tr>\n",
       "      <th>TransactionsDeb_CA</th>\n",
       "      <td>0.031240</td>\n",
       "    </tr>\n",
       "    <tr>\n",
       "      <th>TransactionsDeb</th>\n",
       "      <td>0.030344</td>\n",
       "    </tr>\n",
       "    <tr>\n",
       "      <th>Sex_M</th>\n",
       "      <td>0.020747</td>\n",
       "    </tr>\n",
       "    <tr>\n",
       "      <th>VolumeDeb</th>\n",
       "      <td>0.018369</td>\n",
       "    </tr>\n",
       "    <tr>\n",
       "      <th>Count_CA</th>\n",
       "      <td>0.015064</td>\n",
       "    </tr>\n",
       "    <tr>\n",
       "      <th>Tenure</th>\n",
       "      <td>0.014730</td>\n",
       "    </tr>\n",
       "    <tr>\n",
       "      <th>TransactionsDeb_PaymentOrder</th>\n",
       "      <td>0.012354</td>\n",
       "    </tr>\n",
       "    <tr>\n",
       "      <th>Count_SA</th>\n",
       "      <td>0.010895</td>\n",
       "    </tr>\n",
       "    <tr>\n",
       "      <th>ActBal_OVD</th>\n",
       "      <td>0.010510</td>\n",
       "    </tr>\n",
       "    <tr>\n",
       "      <th>ActBal_CC</th>\n",
       "      <td>0.007854</td>\n",
       "    </tr>\n",
       "    <tr>\n",
       "      <th>TransactionsDebCash_Card</th>\n",
       "      <td>0.007690</td>\n",
       "    </tr>\n",
       "    <tr>\n",
       "      <th>Count_CL</th>\n",
       "      <td>0.006056</td>\n",
       "    </tr>\n",
       "    <tr>\n",
       "      <th>VolumeCred</th>\n",
       "      <td>0.005383</td>\n",
       "    </tr>\n",
       "    <tr>\n",
       "      <th>Count_OVD</th>\n",
       "      <td>0.005310</td>\n",
       "    </tr>\n",
       "    <tr>\n",
       "      <th>TransactionsCred_CA</th>\n",
       "      <td>0.005047</td>\n",
       "    </tr>\n",
       "    <tr>\n",
       "      <th>ActBal_CL</th>\n",
       "      <td>0.003364</td>\n",
       "    </tr>\n",
       "    <tr>\n",
       "      <th>TransactionsCred</th>\n",
       "      <td>0.002692</td>\n",
       "    </tr>\n",
       "    <tr>\n",
       "      <th>Count_CC</th>\n",
       "      <td>0.000000</td>\n",
       "    </tr>\n",
       "    <tr>\n",
       "      <th>Sex_Other</th>\n",
       "      <td>0.000000</td>\n",
       "    </tr>\n",
       "    <tr>\n",
       "      <th>Sex_F</th>\n",
       "      <td>0.000000</td>\n",
       "    </tr>\n",
       "  </tbody>\n",
       "</table>\n",
       "</div>"
      ],
      "text/plain": [
       "                              Importance\n",
       "Feature                                 \n",
       "Client                          0.120214\n",
       "VolumeDeb_CA                    0.081157\n",
       "VolumeCred_CA                   0.081144\n",
       "Age                             0.075070\n",
       "ActBal_CA                       0.073411\n",
       "VolumeDebCashless_Card          0.072251\n",
       "Tenure_years                    0.062394\n",
       "TransactionsDebCashless_Card    0.042801\n",
       "VolumeDebCash_Card              0.040588\n",
       "VolumeDeb_PaymentOrder          0.040332\n",
       "ActBal_SA                       0.037469\n",
       "ActBal_MF                       0.032831\n",
       "Count_MF                        0.032688\n",
       "TransactionsDeb_CA              0.031240\n",
       "TransactionsDeb                 0.030344\n",
       "Sex_M                           0.020747\n",
       "VolumeDeb                       0.018369\n",
       "Count_CA                        0.015064\n",
       "Tenure                          0.014730\n",
       "TransactionsDeb_PaymentOrder    0.012354\n",
       "Count_SA                        0.010895\n",
       "ActBal_OVD                      0.010510\n",
       "ActBal_CC                       0.007854\n",
       "TransactionsDebCash_Card        0.007690\n",
       "Count_CL                        0.006056\n",
       "VolumeCred                      0.005383\n",
       "Count_OVD                       0.005310\n",
       "TransactionsCred_CA             0.005047\n",
       "ActBal_CL                       0.003364\n",
       "TransactionsCred                0.002692\n",
       "Count_CC                        0.000000\n",
       "Sex_Other                       0.000000\n",
       "Sex_F                           0.000000"
      ]
     },
     "execution_count": 222,
     "metadata": {},
     "output_type": "execute_result"
    }
   ],
   "source": [
    "#define the model\n",
    "model=DecisionTreeClassifier() # default split criterion: gini \n",
    "#fit the model with X,y data\n",
    "model.fit(X,y)\n",
    "#get feature importance\n",
    "importance=model.feature_importances_\n",
    "#summarize feature importance\n",
    "df=pd.DataFrame({'Feature':X.columns,'Importance':importance})\n",
    "df.set_index('Feature',inplace=True)\n",
    "df.sort_values(by='Importance',ascending=False,inplace=True)\n",
    "df"
   ]
  },
  {
   "cell_type": "code",
   "execution_count": 223,
   "id": "ad558d4d",
   "metadata": {},
   "outputs": [],
   "source": [
    "# Include features with importance scores > 0.01\n",
    "cols_to_include=df[df['Importance']>0.01].index.tolist()"
   ]
  },
  {
   "cell_type": "markdown",
   "id": "b5078836",
   "metadata": {},
   "source": [
    "### Training a Decision tree classifier with selected features"
   ]
  },
  {
   "cell_type": "code",
   "execution_count": 224,
   "id": "358d606e",
   "metadata": {},
   "outputs": [
    {
     "name": "stdout",
     "output_type": "stream",
     "text": [
      "              precision    recall  f1-score   support\n",
      "\n",
      "           0       0.82      0.94      0.88       109\n",
      "           1       0.46      0.21      0.29        28\n",
      "\n",
      "    accuracy                           0.79       137\n",
      "   macro avg       0.64      0.58      0.58       137\n",
      "weighted avg       0.75      0.79      0.76       137\n",
      "\n"
     ]
    }
   ],
   "source": [
    "# define the model and fit to training data\n",
    "#weights={0:1.0,1:10.0}\n",
    "model_gini=DecisionTreeClassifier(criterion='gini',max_depth=3,class_weight=\"balanced\",min_samples_leaf=5)\n",
    "model_gini=model_gini.fit(X_train.loc[:,cols_to_include],y_train)\n",
    "\n",
    "#get predictions from the model\n",
    "y_pred=model_gini.predict(X_test.loc[:,cols_to_include])\n",
    "target_names=['Sales_MF']\n",
    "print(classification_report(y_test,y_pred))"
   ]
  },
  {
   "cell_type": "markdown",
   "id": "386b9d0c",
   "metadata": {},
   "source": [
    "Comparing precision, recall and F1 scores before and after feature selection, it is evident that with reduced set of features, the model performance does not change after reducing a number of features. Hence, this step acts as dimension reduction."
   ]
  },
  {
   "cell_type": "markdown",
   "id": "ce6ef865",
   "metadata": {},
   "source": [
    "### Handling imbalanced data "
   ]
  },
  {
   "cell_type": "markdown",
   "id": "5ac9530b",
   "metadata": {},
   "source": [
    "Visualize the distribution of target variable (Sales) in class values 0 and 1. Often times, a mismatch in target data distribution hampers the learning capacity of the machine learning model."
   ]
  },
  {
   "cell_type": "code",
   "execution_count": 225,
   "id": "345a1c12",
   "metadata": {},
   "outputs": [
    {
     "data": {
      "text/plain": [
       "Text(0, 0.5, 'Count')"
      ]
     },
     "execution_count": 225,
     "metadata": {},
     "output_type": "execute_result"
    },
    {
     "data": {
      "image/png": "[encoded data removed]",
      "text/plain": [
       "<Figure size 504x504 with 1 Axes>"
      ]
     },
     "metadata": {
      "needs_background": "light"
     },
     "output_type": "display_data"
    }
   ],
   "source": [
    "# Visualize target data distribution\n",
    "plotdata=pd.DataFrame({\n",
    "    \"Sales_0\":[y_train.value_counts()[0],y_test.value_counts()[0]],\n",
    "    \"Sales_1\":[y_train.value_counts()[1],y_test.value_counts()[1]]},\n",
    "     index=[\"y_train\",\"y_test\"])\n",
    "plotdata.plot(kind=\"bar\",figsize=(7,7))\n",
    "plt.xticks(rotation=\"horizontal\")\n",
    "plt.title(\"Target variable distribution\")\n",
    "plt.ylabel(\"Count\")"
   ]
  },
  {
   "cell_type": "markdown",
   "id": "14c18906",
   "metadata": {},
   "source": [
    "Note that the data available for Sales_1 field is far lesser than the data available for Sales_0 field. This could contribute to poor model performance. There are many ways to handle imbalance in datasets: namely Undersampling, Oversampling, Generation of synthetic data using SMOTE. Among all these methods, undersampling is not applicable for this problem, because we already have insufficient data to start with. Hence, I'm using oversampling to handle the problem of imbalanced data."
   ]
  },
  {
   "cell_type": "code",
   "execution_count": 226,
   "id": "d8ff1a85",
   "metadata": {},
   "outputs": [],
   "source": [
    "# Using oversampling to handle the imbalance in proportion of samples belonging to Sales_0 and Sales_1\n",
    "# define oversampling strategy\n",
    "oversample = RandomOverSampler(sampling_strategy='minority')\n",
    "\n",
    "# fit and apply the transform\n",
    "X_over, y_over = oversample.fit_resample(X_revenue,y)"
   ]
  },
  {
   "cell_type": "code",
   "execution_count": 227,
   "id": "53849ab8",
   "metadata": {},
   "outputs": [],
   "source": [
    "# Splitting data into training and test sets\n",
    "X_train_over, X_test_over, y_train_over, y_test_over = train_test_split(X_over,y_over,test_size=0.15, random_state=0,stratify=y_over) "
   ]
  },
  {
   "cell_type": "code",
   "execution_count": 228,
   "id": "9abe5be5",
   "metadata": {},
   "outputs": [
    {
     "data": {
      "text/plain": [
       "Text(0, 0.5, 'Count')"
      ]
     },
     "execution_count": 228,
     "metadata": {},
     "output_type": "execute_result"
    },
    {
     "data": {
      "image/png": "[encoded data removed]",
      "text/plain": [
       "<Figure size 504x504 with 1 Axes>"
      ]
     },
     "metadata": {
      "needs_background": "light"
     },
     "output_type": "display_data"
    }
   ],
   "source": [
    "# Visualize target data distribution for over-sampled data\n",
    "plotdata=pd.DataFrame({\n",
    "    \"Sales_0\":[y_train_over.value_counts()[0],y_test_over.value_counts()[0]],\n",
    "    \"Sales_1\":[y_train_over.value_counts()[1],y_test_over.value_counts()[1]]},\n",
    "     index=[\"y_train\",\"y_test\"])\n",
    "plotdata.plot(kind=\"bar\",figsize=(7,7))\n",
    "plt.xticks(rotation=\"horizontal\")\n",
    "plt.title(\"Target variable distribution after oversampling\")\n",
    "plt.ylabel(\"Count\")"
   ]
  },
  {
   "cell_type": "markdown",
   "id": "f25a13d5",
   "metadata": {},
   "source": [
    "Now train the Decision tree model to see if there is any improvement in model performance"
   ]
  },
  {
   "cell_type": "markdown",
   "id": "812ba769",
   "metadata": {},
   "source": [
    "### Training Decision tree classifier with the balanced data"
   ]
  },
  {
   "cell_type": "code",
   "execution_count": 229,
   "id": "cefa5eda",
   "metadata": {},
   "outputs": [
    {
     "name": "stdout",
     "output_type": "stream",
     "text": [
      "              precision    recall  f1-score   support\n",
      "\n",
      "           0       0.57      0.79      0.66       109\n",
      "           1       0.66      0.40      0.50       109\n",
      "\n",
      "    accuracy                           0.60       218\n",
      "   macro avg       0.61      0.60      0.58       218\n",
      "weighted avg       0.61      0.60      0.58       218\n",
      "\n"
     ]
    }
   ],
   "source": [
    "# define the model and fit to training data\n",
    "#weights={0:1.0,1:10.0}\n",
    "model_DT_over=DecisionTreeClassifier(criterion='gini',max_depth=3,class_weight=\"balanced\",min_samples_leaf=5)\n",
    "model_DT_over=model_DT_over.fit(X_train_over.loc[:,X_train_over.columns!='Revenue_MF'],y_train_over)\n",
    "\n",
    "# Calculate weights of each feature\n",
    "importance=model_DT_over.feature_importances_\n",
    "\n",
    "#summarize feature importance\n",
    "df=pd.DataFrame({'Feature':X.columns,'Importance':importance})\n",
    "df.set_index('Feature',inplace=True)\n",
    "df.sort_values(by='Importance',ascending=False,inplace=True)\n",
    "\n",
    "#get predictions from the model\n",
    "y_pred_DT_over=model_DT_over.predict(X_test_over.loc[:,X_test_over.columns!='Revenue_MF'])\n",
    "\n",
    "# Probability of predictions\n",
    "pred_prob_over=model_DT_over.predict_proba(X_test_over.loc[:,X_test_over.columns!='Revenue_MF'])[:,1]  # probability for class value 1\n",
    "\n",
    "target_names=['Sales_MF']\n",
    "print(classification_report(y_test_over,y_pred_DT_over))"
   ]
  },
  {
   "cell_type": "code",
   "execution_count": 230,
   "id": "7fb2d883",
   "metadata": {},
   "outputs": [
    {
     "name": "stdout",
     "output_type": "stream",
     "text": [
      "Feature importance:                               Importance\n",
      "Feature                                 \n",
      "TransactionsDebCashless_Card    0.260131\n",
      "Count_MF                        0.188372\n",
      "TransactionsCred_CA             0.140501\n",
      "VolumeDebCash_Card              0.134491\n",
      "Age                             0.126009\n",
      "VolumeCred                      0.123113\n",
      "VolumeDeb_CA                    0.027383\n",
      "TransactionsDeb                 0.000000\n",
      "VolumeDeb_PaymentOrder          0.000000\n",
      "VolumeDebCashless_Card          0.000000\n",
      "ActBal_CL                       0.000000\n",
      "TransactionsDeb_CA              0.000000\n",
      "VolumeDeb                       0.000000\n",
      "TransactionsDebCash_Card        0.000000\n",
      "TransactionsCred                0.000000\n",
      "VolumeCred_CA                   0.000000\n",
      "Client                          0.000000\n",
      "ActBal_OVD                      0.000000\n",
      "ActBal_CC                       0.000000\n",
      "ActBal_MF                       0.000000\n",
      "ActBal_SA                       0.000000\n",
      "ActBal_CA                       0.000000\n",
      "Count_CL                        0.000000\n",
      "Count_CC                        0.000000\n",
      "Count_OVD                       0.000000\n",
      "Count_SA                        0.000000\n",
      "Count_CA                        0.000000\n",
      "Tenure_years                    0.000000\n",
      "Sex_Other                       0.000000\n",
      "Sex_M                           0.000000\n",
      "Sex_F                           0.000000\n",
      "Tenure                          0.000000\n",
      "TransactionsDeb_PaymentOrder    0.000000\n",
      "\n"
     ]
    }
   ],
   "source": [
    "print(\"Feature importance: {0}\\n\".format(df))"
   ]
  },
  {
   "cell_type": "markdown",
   "id": "764c41c8",
   "metadata": {},
   "source": [
    "There does seem to be an improvement in evaluation metrics, especially for class 1. Now get propensity and revenue scores from the model"
   ]
  },
  {
   "cell_type": "code",
   "execution_count": 231,
   "id": "d9247e73",
   "metadata": {},
   "outputs": [
    {
     "data": {
      "text/html": [
       "<div>\n",
       "<style scoped>\n",
       "    .dataframe tbody tr th:only-of-type {\n",
       "        vertical-align: middle;\n",
       "    }\n",
       "\n",
       "    .dataframe tbody tr th {\n",
       "        vertical-align: top;\n",
       "    }\n",
       "\n",
       "    .dataframe thead th {\n",
       "        text-align: right;\n",
       "    }\n",
       "</style>\n",
       "<table border=\"1\" class=\"dataframe\">\n",
       "  <thead>\n",
       "    <tr style=\"text-align: right;\">\n",
       "      <th></th>\n",
       "      <th>Client</th>\n",
       "      <th>Propensity</th>\n",
       "      <th>Revenue</th>\n",
       "      <th>Revenue_adjusted</th>\n",
       "    </tr>\n",
       "  </thead>\n",
       "  <tbody>\n",
       "    <tr>\n",
       "      <th>949</th>\n",
       "      <td>725</td>\n",
       "      <td>1.0</td>\n",
       "      <td>2.594464</td>\n",
       "      <td>2.594464</td>\n",
       "    </tr>\n",
       "    <tr>\n",
       "      <th>1316</th>\n",
       "      <td>75</td>\n",
       "      <td>1.0</td>\n",
       "      <td>0.004821</td>\n",
       "      <td>0.004821</td>\n",
       "    </tr>\n",
       "    <tr>\n",
       "      <th>1290</th>\n",
       "      <td>1091</td>\n",
       "      <td>1.0</td>\n",
       "      <td>4.910714</td>\n",
       "      <td>4.910714</td>\n",
       "    </tr>\n",
       "    <tr>\n",
       "      <th>1014</th>\n",
       "      <td>42</td>\n",
       "      <td>1.0</td>\n",
       "      <td>15.275714</td>\n",
       "      <td>15.275714</td>\n",
       "    </tr>\n",
       "    <tr>\n",
       "      <th>222</th>\n",
       "      <td>414</td>\n",
       "      <td>1.0</td>\n",
       "      <td>0.000000</td>\n",
       "      <td>0.000000</td>\n",
       "    </tr>\n",
       "    <tr>\n",
       "      <th>...</th>\n",
       "      <td>...</td>\n",
       "      <td>...</td>\n",
       "      <td>...</td>\n",
       "      <td>...</td>\n",
       "    </tr>\n",
       "    <tr>\n",
       "      <th>1245</th>\n",
       "      <td>1104</td>\n",
       "      <td>0.4</td>\n",
       "      <td>0.699643</td>\n",
       "      <td>0.279857</td>\n",
       "    </tr>\n",
       "    <tr>\n",
       "      <th>118</th>\n",
       "      <td>210</td>\n",
       "      <td>0.4</td>\n",
       "      <td>0.000000</td>\n",
       "      <td>0.000000</td>\n",
       "    </tr>\n",
       "    <tr>\n",
       "      <th>10</th>\n",
       "      <td>22</td>\n",
       "      <td>0.4</td>\n",
       "      <td>0.000000</td>\n",
       "      <td>0.000000</td>\n",
       "    </tr>\n",
       "    <tr>\n",
       "      <th>691</th>\n",
       "      <td>1224</td>\n",
       "      <td>0.0</td>\n",
       "      <td>0.000000</td>\n",
       "      <td>0.000000</td>\n",
       "    </tr>\n",
       "    <tr>\n",
       "      <th>459</th>\n",
       "      <td>821</td>\n",
       "      <td>0.0</td>\n",
       "      <td>0.000000</td>\n",
       "      <td>0.000000</td>\n",
       "    </tr>\n",
       "  </tbody>\n",
       "</table>\n",
       "<p>194 rows × 4 columns</p>\n",
       "</div>"
      ],
      "text/plain": [
       "      Client  Propensity    Revenue  Revenue_adjusted\n",
       "949      725         1.0   2.594464          2.594464\n",
       "1316      75         1.0   0.004821          0.004821\n",
       "1290    1091         1.0   4.910714          4.910714\n",
       "1014      42         1.0  15.275714         15.275714\n",
       "222      414         1.0   0.000000          0.000000\n",
       "...      ...         ...        ...               ...\n",
       "1245    1104         0.4   0.699643          0.279857\n",
       "118      210         0.4   0.000000          0.000000\n",
       "10        22         0.4   0.000000          0.000000\n",
       "691     1224         0.0   0.000000          0.000000\n",
       "459      821         0.0   0.000000          0.000000\n",
       "\n",
       "[194 rows x 4 columns]"
      ]
     },
     "execution_count": 231,
     "metadata": {},
     "output_type": "execute_result"
    }
   ],
   "source": [
    "clients=X_test_over.loc[:,'Client']\n",
    "propensity=pred_prob_over\n",
    "Propensity_MF_over=pd.DataFrame({\"Client\":clients,\"Propensity\":propensity})\n",
    "\n",
    "Propensity_MF_over.drop_duplicates(subset=['Client'],inplace=True)\n",
    "Propensity_MF_over['Propensity'].shape\n",
    "clients=Propensity_MF_over['Client']\n",
    "\n",
    "revenue = X_test_over.query('Client in @clients')['Revenue_MF']\n",
    "revenue_adjusted = revenue.multiply(Propensity_MF_over['Propensity'])\n",
    "\n",
    "# Add adjusted revenue field by multiplying revenue and propensity to buy the corresponding product\n",
    "Propensity_MF_over['Revenue'] = revenue\n",
    "Propensity_MF_over['Revenue_adjusted'] = revenue_adjusted\n",
    "Propensity_MF_over.sort_values(\"Propensity\",ascending=False, inplace=True)\n",
    "Propensity_MF_over"
   ]
  },
  {
   "cell_type": "markdown",
   "id": "3ef82f0b",
   "metadata": {},
   "source": [
    "## Model for customer propensity to buy credit card"
   ]
  },
  {
   "cell_type": "code",
   "execution_count": 233,
   "id": "78d57349",
   "metadata": {},
   "outputs": [],
   "source": [
    "# Using normalized data\n",
    "X=data_norm.iloc[:,:33] \n",
    "y=data_norm.iloc[:,34:35] \n",
    "revenue_CC = data_norm.loc[:,'Revenue_CC']\n",
    "X_revenue=pd.concat([X,revenue_CC],axis=1)"
   ]
  },
  {
   "cell_type": "code",
   "execution_count": 234,
   "id": "7c558efa",
   "metadata": {},
   "outputs": [],
   "source": [
    "# Splitting data into training and test sets\n",
    "X_train, X_test, y_train, y_test = train_test_split(X,y,test_size=0.15, random_state=0,stratify=y) "
   ]
  },
  {
   "cell_type": "code",
   "execution_count": 235,
   "id": "1db23367",
   "metadata": {},
   "outputs": [
    {
     "data": {
      "text/plain": [
       "(774, 33)"
      ]
     },
     "execution_count": 235,
     "metadata": {},
     "output_type": "execute_result"
    }
   ],
   "source": [
    "X_train.shape"
   ]
  },
  {
   "cell_type": "code",
   "execution_count": 236,
   "id": "44775fcf",
   "metadata": {},
   "outputs": [
    {
     "data": {
      "text/plain": [
       "(137, 33)"
      ]
     },
     "execution_count": 236,
     "metadata": {},
     "output_type": "execute_result"
    }
   ],
   "source": [
    "X_test.shape"
   ]
  },
  {
   "cell_type": "code",
   "execution_count": 237,
   "id": "0e13019e",
   "metadata": {},
   "outputs": [
    {
     "data": {
      "text/html": [
       "<div>\n",
       "<style scoped>\n",
       "    .dataframe tbody tr th:only-of-type {\n",
       "        vertical-align: middle;\n",
       "    }\n",
       "\n",
       "    .dataframe tbody tr th {\n",
       "        vertical-align: top;\n",
       "    }\n",
       "\n",
       "    .dataframe thead th {\n",
       "        text-align: right;\n",
       "    }\n",
       "</style>\n",
       "<table border=\"1\" class=\"dataframe\">\n",
       "  <thead>\n",
       "    <tr style=\"text-align: right;\">\n",
       "      <th></th>\n",
       "      <th>Client</th>\n",
       "      <th>Age</th>\n",
       "      <th>Tenure</th>\n",
       "      <th>Sex_F</th>\n",
       "      <th>Sex_M</th>\n",
       "      <th>Sex_Other</th>\n",
       "      <th>Tenure_years</th>\n",
       "      <th>Count_CA</th>\n",
       "      <th>Count_SA</th>\n",
       "      <th>Count_MF</th>\n",
       "      <th>...</th>\n",
       "      <th>VolumeDeb</th>\n",
       "      <th>VolumeDeb_CA</th>\n",
       "      <th>VolumeDebCash_Card</th>\n",
       "      <th>VolumeDebCashless_Card</th>\n",
       "      <th>VolumeDeb_PaymentOrder</th>\n",
       "      <th>TransactionsDeb</th>\n",
       "      <th>TransactionsDeb_CA</th>\n",
       "      <th>TransactionsDebCash_Card</th>\n",
       "      <th>TransactionsDebCashless_Card</th>\n",
       "      <th>TransactionsDeb_PaymentOrder</th>\n",
       "    </tr>\n",
       "  </thead>\n",
       "  <tbody>\n",
       "    <tr>\n",
       "      <th>312</th>\n",
       "      <td>564</td>\n",
       "      <td>0.623529</td>\n",
       "      <td>0.118081</td>\n",
       "      <td>0.0</td>\n",
       "      <td>1.0</td>\n",
       "      <td>0.0</td>\n",
       "      <td>0.118081</td>\n",
       "      <td>0.000000</td>\n",
       "      <td>0.000000</td>\n",
       "      <td>0.000000</td>\n",
       "      <td>...</td>\n",
       "      <td>0.002115</td>\n",
       "      <td>0.002129</td>\n",
       "      <td>0.000000</td>\n",
       "      <td>0.000000</td>\n",
       "      <td>0.002167</td>\n",
       "      <td>0.029412</td>\n",
       "      <td>0.036145</td>\n",
       "      <td>0.00</td>\n",
       "      <td>0.000000</td>\n",
       "      <td>0.058824</td>\n",
       "    </tr>\n",
       "    <tr>\n",
       "      <th>341</th>\n",
       "      <td>610</td>\n",
       "      <td>0.282353</td>\n",
       "      <td>0.782288</td>\n",
       "      <td>0.0</td>\n",
       "      <td>1.0</td>\n",
       "      <td>0.0</td>\n",
       "      <td>0.782288</td>\n",
       "      <td>0.000000</td>\n",
       "      <td>0.333333</td>\n",
       "      <td>0.012658</td>\n",
       "      <td>...</td>\n",
       "      <td>0.134268</td>\n",
       "      <td>0.134659</td>\n",
       "      <td>0.005758</td>\n",
       "      <td>0.008915</td>\n",
       "      <td>0.019858</td>\n",
       "      <td>0.166667</td>\n",
       "      <td>0.180723</td>\n",
       "      <td>0.08</td>\n",
       "      <td>0.016667</td>\n",
       "      <td>0.235294</td>\n",
       "    </tr>\n",
       "    <tr>\n",
       "      <th>507</th>\n",
       "      <td>904</td>\n",
       "      <td>0.211765</td>\n",
       "      <td>0.560886</td>\n",
       "      <td>1.0</td>\n",
       "      <td>0.0</td>\n",
       "      <td>0.0</td>\n",
       "      <td>0.560886</td>\n",
       "      <td>0.000000</td>\n",
       "      <td>0.000000</td>\n",
       "      <td>0.000000</td>\n",
       "      <td>...</td>\n",
       "      <td>0.010132</td>\n",
       "      <td>0.010200</td>\n",
       "      <td>0.010000</td>\n",
       "      <td>0.083284</td>\n",
       "      <td>0.001836</td>\n",
       "      <td>0.137255</td>\n",
       "      <td>0.168675</td>\n",
       "      <td>0.04</td>\n",
       "      <td>0.150000</td>\n",
       "      <td>0.088235</td>\n",
       "    </tr>\n",
       "    <tr>\n",
       "      <th>809</th>\n",
       "      <td>1428</td>\n",
       "      <td>0.529412</td>\n",
       "      <td>0.557196</td>\n",
       "      <td>1.0</td>\n",
       "      <td>0.0</td>\n",
       "      <td>0.0</td>\n",
       "      <td>0.557196</td>\n",
       "      <td>0.000000</td>\n",
       "      <td>0.000000</td>\n",
       "      <td>0.000000</td>\n",
       "      <td>...</td>\n",
       "      <td>0.000014</td>\n",
       "      <td>0.000014</td>\n",
       "      <td>0.000000</td>\n",
       "      <td>0.000000</td>\n",
       "      <td>0.000000</td>\n",
       "      <td>0.058824</td>\n",
       "      <td>0.012048</td>\n",
       "      <td>0.00</td>\n",
       "      <td>0.000000</td>\n",
       "      <td>0.000000</td>\n",
       "    </tr>\n",
       "    <tr>\n",
       "      <th>268</th>\n",
       "      <td>486</td>\n",
       "      <td>0.447059</td>\n",
       "      <td>0.719557</td>\n",
       "      <td>0.0</td>\n",
       "      <td>1.0</td>\n",
       "      <td>0.0</td>\n",
       "      <td>0.719557</td>\n",
       "      <td>0.333333</td>\n",
       "      <td>0.000000</td>\n",
       "      <td>0.000000</td>\n",
       "      <td>...</td>\n",
       "      <td>0.000086</td>\n",
       "      <td>0.000086</td>\n",
       "      <td>0.000000</td>\n",
       "      <td>0.000000</td>\n",
       "      <td>0.000000</td>\n",
       "      <td>0.009804</td>\n",
       "      <td>0.012048</td>\n",
       "      <td>0.00</td>\n",
       "      <td>0.000000</td>\n",
       "      <td>0.000000</td>\n",
       "    </tr>\n",
       "  </tbody>\n",
       "</table>\n",
       "<p>5 rows × 33 columns</p>\n",
       "</div>"
      ],
      "text/plain": [
       "     Client       Age    Tenure  Sex_F  Sex_M  Sex_Other  Tenure_years  \\\n",
       "312     564  0.623529  0.118081    0.0    1.0        0.0      0.118081   \n",
       "341     610  0.282353  0.782288    0.0    1.0        0.0      0.782288   \n",
       "507     904  0.211765  0.560886    1.0    0.0        0.0      0.560886   \n",
       "809    1428  0.529412  0.557196    1.0    0.0        0.0      0.557196   \n",
       "268     486  0.447059  0.719557    0.0    1.0        0.0      0.719557   \n",
       "\n",
       "     Count_CA  Count_SA  Count_MF  ...  VolumeDeb  VolumeDeb_CA  \\\n",
       "312  0.000000  0.000000  0.000000  ...   0.002115      0.002129   \n",
       "341  0.000000  0.333333  0.012658  ...   0.134268      0.134659   \n",
       "507  0.000000  0.000000  0.000000  ...   0.010132      0.010200   \n",
       "809  0.000000  0.000000  0.000000  ...   0.000014      0.000014   \n",
       "268  0.333333  0.000000  0.000000  ...   0.000086      0.000086   \n",
       "\n",
       "     VolumeDebCash_Card  VolumeDebCashless_Card  VolumeDeb_PaymentOrder  \\\n",
       "312            0.000000                0.000000                0.002167   \n",
       "341            0.005758                0.008915                0.019858   \n",
       "507            0.010000                0.083284                0.001836   \n",
       "809            0.000000                0.000000                0.000000   \n",
       "268            0.000000                0.000000                0.000000   \n",
       "\n",
       "     TransactionsDeb  TransactionsDeb_CA  TransactionsDebCash_Card  \\\n",
       "312         0.029412            0.036145                      0.00   \n",
       "341         0.166667            0.180723                      0.08   \n",
       "507         0.137255            0.168675                      0.04   \n",
       "809         0.058824            0.012048                      0.00   \n",
       "268         0.009804            0.012048                      0.00   \n",
       "\n",
       "     TransactionsDebCashless_Card  TransactionsDeb_PaymentOrder  \n",
       "312                      0.000000                      0.058824  \n",
       "341                      0.016667                      0.235294  \n",
       "507                      0.150000                      0.088235  \n",
       "809                      0.000000                      0.000000  \n",
       "268                      0.000000                      0.000000  \n",
       "\n",
       "[5 rows x 33 columns]"
      ]
     },
     "execution_count": 237,
     "metadata": {},
     "output_type": "execute_result"
    }
   ],
   "source": [
    "X_test.head()"
   ]
  },
  {
   "cell_type": "markdown",
   "id": "867f9d10",
   "metadata": {},
   "source": [
    "### Training a Decision Tree Classifier"
   ]
  },
  {
   "cell_type": "code",
   "execution_count": 238,
   "id": "a0888c70",
   "metadata": {},
   "outputs": [
    {
     "name": "stdout",
     "output_type": "stream",
     "text": [
      "              precision    recall  f1-score   support\n",
      "\n",
      "           0       0.77      0.87      0.82       103\n",
      "           1       0.35      0.21      0.26        34\n",
      "\n",
      "    accuracy                           0.71       137\n",
      "   macro avg       0.56      0.54      0.54       137\n",
      "weighted avg       0.67      0.71      0.68       137\n",
      "\n"
     ]
    }
   ],
   "source": [
    "# define the model and fit to training data\n",
    "#weights={0:1.0,1:10.0}\n",
    "model_gini=DecisionTreeClassifier(criterion='gini',max_depth=3,class_weight=\"balanced\",min_samples_leaf=5)\n",
    "model_gini=model_gini.fit(X_train,y_train)\n",
    "\n",
    "#get predictions from the model\n",
    "y_pred_gini=model_gini.predict(X_test)\n",
    "target_names=['Sales_CC']\n",
    "print(classification_report(y_test,y_pred_gini))"
   ]
  },
  {
   "cell_type": "code",
   "execution_count": 239,
   "id": "15cfb26e",
   "metadata": {},
   "outputs": [
    {
     "data": {
      "text/plain": [
       "array([0.42198182, 0.42198182, 0.42198182, 0.64765101, 0.42198182,\n",
       "       0.42198182, 0.42198182, 0.42198182, 0.42198182, 0.42198182,\n",
       "       0.42198182, 0.42198182, 0.42198182, 0.42198182, 0.42198182,\n",
       "       0.42198182, 0.42198182, 0.42198182, 0.42198182, 0.42198182,\n",
       "       0.42198182, 0.42198182, 0.42198182, 0.42198182, 0.64765101,\n",
       "       0.95409605, 0.42198182, 0.42198182, 0.42198182, 0.54289733,\n",
       "       0.42198182, 0.64765101, 0.42198182, 0.42198182, 0.42198182,\n",
       "       0.42198182, 0.42198182, 0.42198182, 0.42198182, 0.42198182,\n",
       "       0.42198182, 0.42198182, 0.42198182, 0.42198182, 0.95409605,\n",
       "       0.42198182, 0.64765101, 0.42198182, 0.42198182, 0.42198182,\n",
       "       0.95409605, 0.42198182, 0.42198182, 0.42198182, 0.42198182,\n",
       "       0.42198182, 0.42198182, 0.42198182, 0.42198182, 0.42198182,\n",
       "       0.42198182, 0.42198182, 0.42198182, 0.42198182, 0.42198182,\n",
       "       0.42198182, 0.64765101, 0.42198182, 0.42198182, 0.95409605,\n",
       "       0.42198182, 0.42198182, 0.42198182, 0.42198182, 0.95409605,\n",
       "       0.42198182, 0.54289733, 0.42198182, 0.42198182, 0.42198182,\n",
       "       0.64765101, 0.42198182, 0.42198182, 0.42198182, 0.42198182,\n",
       "       0.42198182, 0.64765101, 0.42198182, 0.42198182, 0.42198182,\n",
       "       0.42198182, 0.42198182, 0.42198182, 0.42198182, 0.42198182,\n",
       "       0.42198182, 0.42198182, 0.88786659, 0.42198182, 0.64765101,\n",
       "       0.42198182, 0.42198182, 0.42198182, 0.42198182, 0.42198182,\n",
       "       0.42198182, 0.42198182, 0.42198182, 0.42198182, 0.42198182,\n",
       "       0.64765101, 0.42198182, 0.42198182, 0.42198182, 0.64765101,\n",
       "       0.42198182, 0.42198182, 0.42198182, 0.42198182, 0.42198182,\n",
       "       0.64765101, 0.42198182, 0.42198182, 0.42198182, 0.42198182,\n",
       "       0.42198182, 0.42198182, 0.42198182, 0.42198182, 0.42198182,\n",
       "       0.42198182, 0.42198182, 0.42198182, 0.42198182, 0.42198182,\n",
       "       0.42198182, 0.64765101])"
      ]
     },
     "execution_count": 239,
     "metadata": {},
     "output_type": "execute_result"
    }
   ],
   "source": [
    "# Predict propensity \n",
    "pred_prob=model_gini.predict_proba(X_test)[:,1]\n",
    "pred_prob"
   ]
  },
  {
   "cell_type": "code",
   "execution_count": 241,
   "id": "c5d8f6d7",
   "metadata": {},
   "outputs": [
    {
     "data": {
      "text/html": [
       "<div>\n",
       "<style scoped>\n",
       "    .dataframe tbody tr th:only-of-type {\n",
       "        vertical-align: middle;\n",
       "    }\n",
       "\n",
       "    .dataframe tbody tr th {\n",
       "        vertical-align: top;\n",
       "    }\n",
       "\n",
       "    .dataframe thead th {\n",
       "        text-align: right;\n",
       "    }\n",
       "</style>\n",
       "<table border=\"1\" class=\"dataframe\">\n",
       "  <thead>\n",
       "    <tr style=\"text-align: right;\">\n",
       "      <th></th>\n",
       "      <th>Client</th>\n",
       "      <th>Revenue</th>\n",
       "      <th>Propensity</th>\n",
       "      <th>Revenue adjusted</th>\n",
       "    </tr>\n",
       "  </thead>\n",
       "  <tbody>\n",
       "    <tr>\n",
       "      <th>121</th>\n",
       "      <td>215</td>\n",
       "      <td>0.000000</td>\n",
       "      <td>0.954096</td>\n",
       "      <td>0.000000</td>\n",
       "    </tr>\n",
       "    <tr>\n",
       "      <th>431</th>\n",
       "      <td>767</td>\n",
       "      <td>0.000000</td>\n",
       "      <td>0.954096</td>\n",
       "      <td>0.000000</td>\n",
       "    </tr>\n",
       "    <tr>\n",
       "      <th>276</th>\n",
       "      <td>499</td>\n",
       "      <td>0.000000</td>\n",
       "      <td>0.954096</td>\n",
       "      <td>0.000000</td>\n",
       "    </tr>\n",
       "    <tr>\n",
       "      <th>470</th>\n",
       "      <td>840</td>\n",
       "      <td>3.510714</td>\n",
       "      <td>0.954096</td>\n",
       "      <td>3.349559</td>\n",
       "    </tr>\n",
       "    <tr>\n",
       "      <th>235</th>\n",
       "      <td>436</td>\n",
       "      <td>0.000000</td>\n",
       "      <td>0.954096</td>\n",
       "      <td>0.000000</td>\n",
       "    </tr>\n",
       "    <tr>\n",
       "      <th>...</th>\n",
       "      <td>...</td>\n",
       "      <td>...</td>\n",
       "      <td>...</td>\n",
       "      <td>...</td>\n",
       "    </tr>\n",
       "    <tr>\n",
       "      <th>228</th>\n",
       "      <td>421</td>\n",
       "      <td>0.000000</td>\n",
       "      <td>0.421982</td>\n",
       "      <td>0.000000</td>\n",
       "    </tr>\n",
       "    <tr>\n",
       "      <th>221</th>\n",
       "      <td>413</td>\n",
       "      <td>0.000000</td>\n",
       "      <td>0.421982</td>\n",
       "      <td>0.000000</td>\n",
       "    </tr>\n",
       "    <tr>\n",
       "      <th>220</th>\n",
       "      <td>412</td>\n",
       "      <td>0.893929</td>\n",
       "      <td>0.421982</td>\n",
       "      <td>0.377222</td>\n",
       "    </tr>\n",
       "    <tr>\n",
       "      <th>194</th>\n",
       "      <td>361</td>\n",
       "      <td>0.000000</td>\n",
       "      <td>0.421982</td>\n",
       "      <td>0.000000</td>\n",
       "    </tr>\n",
       "    <tr>\n",
       "      <th>428</th>\n",
       "      <td>762</td>\n",
       "      <td>0.214286</td>\n",
       "      <td>0.421982</td>\n",
       "      <td>0.090425</td>\n",
       "    </tr>\n",
       "  </tbody>\n",
       "</table>\n",
       "<p>137 rows × 4 columns</p>\n",
       "</div>"
      ],
      "text/plain": [
       "     Client   Revenue  Propensity  Revenue adjusted\n",
       "121     215  0.000000    0.954096          0.000000\n",
       "431     767  0.000000    0.954096          0.000000\n",
       "276     499  0.000000    0.954096          0.000000\n",
       "470     840  3.510714    0.954096          3.349559\n",
       "235     436  0.000000    0.954096          0.000000\n",
       "..      ...       ...         ...               ...\n",
       "228     421  0.000000    0.421982          0.000000\n",
       "221     413  0.000000    0.421982          0.000000\n",
       "220     412  0.893929    0.421982          0.377222\n",
       "194     361  0.000000    0.421982          0.000000\n",
       "428     762  0.214286    0.421982          0.090425\n",
       "\n",
       "[137 rows x 4 columns]"
      ]
     },
     "execution_count": 241,
     "metadata": {},
     "output_type": "execute_result"
    }
   ],
   "source": [
    "clients=X_test.loc[:,'Client']\n",
    "revenue=data.query('Client in @clients')['Revenue_CC']\n",
    "propensity=pred_prob\n",
    "revenue_adjusted=revenue.multiply(propensity)\n",
    "\n",
    "Propensity_CC=pd.DataFrame({\"Client\":clients, \"Revenue\":revenue,\"Propensity\":propensity})\n",
    "Propensity_CC['Revenue adjusted'] = revenue_adjusted\n",
    "Propensity_CC.sort_values(\"Propensity\",ascending=False,inplace=True)\n",
    "Propensity_CC"
   ]
  },
  {
   "cell_type": "markdown",
   "id": "2d7a8944",
   "metadata": {},
   "source": [
    "### Feature selection using Decision tree"
   ]
  },
  {
   "cell_type": "markdown",
   "id": "f4d256bb",
   "metadata": {},
   "source": [
    "The goal is to use decision tree classifier to reduce dimensions of the data (feature selection), after which the machine learning model should be able to perform the same as before, or better."
   ]
  },
  {
   "cell_type": "code",
   "execution_count": 242,
   "id": "6eb00e00",
   "metadata": {},
   "outputs": [
    {
     "data": {
      "text/html": [
       "<div>\n",
       "<style scoped>\n",
       "    .dataframe tbody tr th:only-of-type {\n",
       "        vertical-align: middle;\n",
       "    }\n",
       "\n",
       "    .dataframe tbody tr th {\n",
       "        vertical-align: top;\n",
       "    }\n",
       "\n",
       "    .dataframe thead th {\n",
       "        text-align: right;\n",
       "    }\n",
       "</style>\n",
       "<table border=\"1\" class=\"dataframe\">\n",
       "  <thead>\n",
       "    <tr style=\"text-align: right;\">\n",
       "      <th></th>\n",
       "      <th>Importance</th>\n",
       "    </tr>\n",
       "    <tr>\n",
       "      <th>Feature</th>\n",
       "      <th></th>\n",
       "    </tr>\n",
       "  </thead>\n",
       "  <tbody>\n",
       "    <tr>\n",
       "      <th>ActBal_CA</th>\n",
       "      <td>0.152215</td>\n",
       "    </tr>\n",
       "    <tr>\n",
       "      <th>VolumeDeb_PaymentOrder</th>\n",
       "      <td>0.109983</td>\n",
       "    </tr>\n",
       "    <tr>\n",
       "      <th>ActBal_SA</th>\n",
       "      <td>0.082859</td>\n",
       "    </tr>\n",
       "    <tr>\n",
       "      <th>TransactionsDeb_PaymentOrder</th>\n",
       "      <td>0.071328</td>\n",
       "    </tr>\n",
       "    <tr>\n",
       "      <th>Tenure</th>\n",
       "      <td>0.053784</td>\n",
       "    </tr>\n",
       "    <tr>\n",
       "      <th>VolumeDeb_CA</th>\n",
       "      <td>0.048975</td>\n",
       "    </tr>\n",
       "    <tr>\n",
       "      <th>Age</th>\n",
       "      <td>0.041639</td>\n",
       "    </tr>\n",
       "    <tr>\n",
       "      <th>Tenure_years</th>\n",
       "      <td>0.040607</td>\n",
       "    </tr>\n",
       "    <tr>\n",
       "      <th>TransactionsCred</th>\n",
       "      <td>0.040486</td>\n",
       "    </tr>\n",
       "    <tr>\n",
       "      <th>TransactionsDeb_CA</th>\n",
       "      <td>0.038882</td>\n",
       "    </tr>\n",
       "    <tr>\n",
       "      <th>Client</th>\n",
       "      <td>0.035859</td>\n",
       "    </tr>\n",
       "    <tr>\n",
       "      <th>VolumeDeb</th>\n",
       "      <td>0.035471</td>\n",
       "    </tr>\n",
       "    <tr>\n",
       "      <th>VolumeDebCashless_Card</th>\n",
       "      <td>0.033143</td>\n",
       "    </tr>\n",
       "    <tr>\n",
       "      <th>VolumeCred</th>\n",
       "      <td>0.032409</td>\n",
       "    </tr>\n",
       "    <tr>\n",
       "      <th>TransactionsDebCash_Card</th>\n",
       "      <td>0.028987</td>\n",
       "    </tr>\n",
       "    <tr>\n",
       "      <th>VolumeCred_CA</th>\n",
       "      <td>0.023265</td>\n",
       "    </tr>\n",
       "    <tr>\n",
       "      <th>TransactionsCred_CA</th>\n",
       "      <td>0.018763</td>\n",
       "    </tr>\n",
       "    <tr>\n",
       "      <th>Count_OVD</th>\n",
       "      <td>0.018516</td>\n",
       "    </tr>\n",
       "    <tr>\n",
       "      <th>VolumeDebCash_Card</th>\n",
       "      <td>0.016052</td>\n",
       "    </tr>\n",
       "    <tr>\n",
       "      <th>Sex_F</th>\n",
       "      <td>0.015620</td>\n",
       "    </tr>\n",
       "    <tr>\n",
       "      <th>Count_MF</th>\n",
       "      <td>0.013759</td>\n",
       "    </tr>\n",
       "    <tr>\n",
       "      <th>TransactionsDebCashless_Card</th>\n",
       "      <td>0.012414</td>\n",
       "    </tr>\n",
       "    <tr>\n",
       "      <th>TransactionsDeb</th>\n",
       "      <td>0.009555</td>\n",
       "    </tr>\n",
       "    <tr>\n",
       "      <th>Count_SA</th>\n",
       "      <td>0.009041</td>\n",
       "    </tr>\n",
       "    <tr>\n",
       "      <th>ActBal_OVD</th>\n",
       "      <td>0.006120</td>\n",
       "    </tr>\n",
       "    <tr>\n",
       "      <th>Count_CA</th>\n",
       "      <td>0.005185</td>\n",
       "    </tr>\n",
       "    <tr>\n",
       "      <th>ActBal_CL</th>\n",
       "      <td>0.005082</td>\n",
       "    </tr>\n",
       "    <tr>\n",
       "      <th>Sex_Other</th>\n",
       "      <td>0.000000</td>\n",
       "    </tr>\n",
       "    <tr>\n",
       "      <th>Count_CL</th>\n",
       "      <td>0.000000</td>\n",
       "    </tr>\n",
       "    <tr>\n",
       "      <th>Sex_M</th>\n",
       "      <td>0.000000</td>\n",
       "    </tr>\n",
       "    <tr>\n",
       "      <th>ActBal_CC</th>\n",
       "      <td>0.000000</td>\n",
       "    </tr>\n",
       "    <tr>\n",
       "      <th>ActBal_MF</th>\n",
       "      <td>0.000000</td>\n",
       "    </tr>\n",
       "    <tr>\n",
       "      <th>Count_CC</th>\n",
       "      <td>0.000000</td>\n",
       "    </tr>\n",
       "  </tbody>\n",
       "</table>\n",
       "</div>"
      ],
      "text/plain": [
       "                              Importance\n",
       "Feature                                 \n",
       "ActBal_CA                       0.152215\n",
       "VolumeDeb_PaymentOrder          0.109983\n",
       "ActBal_SA                       0.082859\n",
       "TransactionsDeb_PaymentOrder    0.071328\n",
       "Tenure                          0.053784\n",
       "VolumeDeb_CA                    0.048975\n",
       "Age                             0.041639\n",
       "Tenure_years                    0.040607\n",
       "TransactionsCred                0.040486\n",
       "TransactionsDeb_CA              0.038882\n",
       "Client                          0.035859\n",
       "VolumeDeb                       0.035471\n",
       "VolumeDebCashless_Card          0.033143\n",
       "VolumeCred                      0.032409\n",
       "TransactionsDebCash_Card        0.028987\n",
       "VolumeCred_CA                   0.023265\n",
       "TransactionsCred_CA             0.018763\n",
       "Count_OVD                       0.018516\n",
       "VolumeDebCash_Card              0.016052\n",
       "Sex_F                           0.015620\n",
       "Count_MF                        0.013759\n",
       "TransactionsDebCashless_Card    0.012414\n",
       "TransactionsDeb                 0.009555\n",
       "Count_SA                        0.009041\n",
       "ActBal_OVD                      0.006120\n",
       "Count_CA                        0.005185\n",
       "ActBal_CL                       0.005082\n",
       "Sex_Other                       0.000000\n",
       "Count_CL                        0.000000\n",
       "Sex_M                           0.000000\n",
       "ActBal_CC                       0.000000\n",
       "ActBal_MF                       0.000000\n",
       "Count_CC                        0.000000"
      ]
     },
     "execution_count": 242,
     "metadata": {},
     "output_type": "execute_result"
    }
   ],
   "source": [
    "#define the model\n",
    "model=DecisionTreeClassifier() # default split criterion: gini \n",
    "#fit the model with X,y data\n",
    "model.fit(X,y)\n",
    "#get feature importance\n",
    "importance=model.feature_importances_\n",
    "#summarize feature importance\n",
    "df=pd.DataFrame({'Feature':X.columns,'Importance':importance})\n",
    "df.set_index('Feature',inplace=True)\n",
    "df.sort_values(by='Importance',ascending=False,inplace=True)\n",
    "df"
   ]
  },
  {
   "cell_type": "code",
   "execution_count": 243,
   "id": "a38798fe",
   "metadata": {},
   "outputs": [],
   "source": [
    "# Include features with importance scores > 0.01\n",
    "cols_to_include=df[df['Importance']>0.01].index.tolist()"
   ]
  },
  {
   "cell_type": "markdown",
   "id": "602709d1",
   "metadata": {},
   "source": [
    "### Training a Decision tree classifier with selected features"
   ]
  },
  {
   "cell_type": "code",
   "execution_count": 244,
   "id": "efd361a1",
   "metadata": {},
   "outputs": [
    {
     "name": "stdout",
     "output_type": "stream",
     "text": [
      "              precision    recall  f1-score   support\n",
      "\n",
      "           0       0.77      0.87      0.82       103\n",
      "           1       0.35      0.21      0.26        34\n",
      "\n",
      "    accuracy                           0.71       137\n",
      "   macro avg       0.56      0.54      0.54       137\n",
      "weighted avg       0.67      0.71      0.68       137\n",
      "\n"
     ]
    }
   ],
   "source": [
    "# define the model and fit to training data\n",
    "#weights={0:1.0,1:10.0}\n",
    "model_gini=DecisionTreeClassifier(criterion='gini',max_depth=3,class_weight=\"balanced\",min_samples_leaf=5)\n",
    "model_gini=model_gini.fit(X_train.loc[:,cols_to_include],y_train)\n",
    "\n",
    "#get predictions from the model\n",
    "y_pred=model_gini.predict(X_test.loc[:,cols_to_include])\n",
    "target_names=['Sales_MF']\n",
    "print(classification_report(y_test,y_pred))"
   ]
  },
  {
   "cell_type": "markdown",
   "id": "3c65f5de",
   "metadata": {},
   "source": [
    "Comparing precision, recall and F1 scores before and after feature selection, it is evident that with reduced set of features, the model performance does not change after reducing a number of features. Hence, this step acts as dimension reduction."
   ]
  },
  {
   "cell_type": "markdown",
   "id": "38a33d3b",
   "metadata": {},
   "source": [
    "### Handling imbalanced data "
   ]
  },
  {
   "cell_type": "markdown",
   "id": "505ba58f",
   "metadata": {},
   "source": [
    "Visualize the distribution of target variable (Sales) in class values 0 and 1. Often times, a mismatch in target data distribution hampers the learning capacity of the machine learning model."
   ]
  },
  {
   "cell_type": "code",
   "execution_count": 245,
   "id": "d6cb1b1f",
   "metadata": {},
   "outputs": [
    {
     "data": {
      "text/plain": [
       "Text(0, 0.5, 'Count')"
      ]
     },
     "execution_count": 245,
     "metadata": {},
     "output_type": "execute_result"
    },
    {
     "data": {
      "image/png": "[encoded data removed]",
      "text/plain": [
       "<Figure size 504x504 with 1 Axes>"
      ]
     },
     "metadata": {
      "needs_background": "light"
     },
     "output_type": "display_data"
    }
   ],
   "source": [
    "# Visualize target data distribution\n",
    "plotdata=pd.DataFrame({\n",
    "    \"Sales_0\":[y_train.value_counts()[0],y_test.value_counts()[0]],\n",
    "    \"Sales_1\":[y_train.value_counts()[1],y_test.value_counts()[1]]},\n",
    "     index=[\"y_train\",\"y_test\"])\n",
    "plotdata.plot(kind=\"bar\",figsize=(7,7))\n",
    "plt.xticks(rotation=\"horizontal\")\n",
    "plt.title(\"Target variable distribution\")\n",
    "plt.ylabel(\"Count\")"
   ]
  },
  {
   "cell_type": "markdown",
   "id": "76cfe049",
   "metadata": {},
   "source": [
    "Note that the data available for Sales_1 field is far lesser than the data available for Sales_0 field. This could contribute to poor model performance. There are many ways to handle imbalance in datasets: namely Undersampling, Oversampling, Generation of synthetic data using SMOTE. Among all these methods, undersampling is not applicable for this problem, because we already have insufficient data to start with. Hence, oversampling is used to handle the problem of imbalanced data in this case."
   ]
  },
  {
   "cell_type": "code",
   "execution_count": 246,
   "id": "b982a88f",
   "metadata": {},
   "outputs": [],
   "source": [
    "# Using oversampling to handle the imbalance in proportion of samples belonging to Sales_0 and Sales_1\n",
    "# define oversampling strategy\n",
    "oversample = RandomOverSampler(sampling_strategy='minority')\n",
    "\n",
    "# fit and apply the transform\n",
    "X_over, y_over = oversample.fit_resample(X_revenue,y)"
   ]
  },
  {
   "cell_type": "code",
   "execution_count": 247,
   "id": "5adaff5d",
   "metadata": {},
   "outputs": [],
   "source": [
    "# Splitting data into training and test sets\n",
    "X_train_over, X_test_over, y_train_over, y_test_over = train_test_split(X_over,y_over,test_size=0.15, random_state=0,stratify=y_over) "
   ]
  },
  {
   "cell_type": "code",
   "execution_count": 248,
   "id": "a3f07623",
   "metadata": {},
   "outputs": [
    {
     "data": {
      "text/plain": [
       "Text(0, 0.5, 'Count')"
      ]
     },
     "execution_count": 248,
     "metadata": {},
     "output_type": "execute_result"
    },
    {
     "data": {
      "image/png": "[encoded data removed]",
      "text/plain": [
       "<Figure size 504x504 with 1 Axes>"
      ]
     },
     "metadata": {
      "needs_background": "light"
     },
     "output_type": "display_data"
    }
   ],
   "source": [
    "# Visualize target data distribution for over-sampled data\n",
    "plotdata=pd.DataFrame({\n",
    "    \"Sales_0\":[y_train_over.value_counts()[0],y_test_over.value_counts()[0]],\n",
    "    \"Sales_1\":[y_train_over.value_counts()[1],y_test_over.value_counts()[1]]},\n",
    "     index=[\"y_train\",\"y_test\"])\n",
    "plotdata.plot(kind=\"bar\",figsize=(7,7))\n",
    "plt.xticks(rotation=\"horizontal\")\n",
    "plt.title(\"Target variable distribution after oversampling\")\n",
    "plt.ylabel(\"Count\")"
   ]
  },
  {
   "cell_type": "markdown",
   "id": "ab628f87",
   "metadata": {},
   "source": [
    "Now train the Decision tree model to see if there is any improvement in model performance"
   ]
  },
  {
   "cell_type": "markdown",
   "id": "9bbd7f8f",
   "metadata": {},
   "source": [
    "### Training Decision tree classifier with the balanced data"
   ]
  },
  {
   "cell_type": "code",
   "execution_count": 249,
   "id": "4d56f4a5",
   "metadata": {},
   "outputs": [
    {
     "name": "stdout",
     "output_type": "stream",
     "text": [
      "              precision    recall  f1-score   support\n",
      "\n",
      "           0       0.57      0.97      0.72       103\n",
      "           1       0.90      0.27      0.42       102\n",
      "\n",
      "    accuracy                           0.62       205\n",
      "   macro avg       0.74      0.62      0.57       205\n",
      "weighted avg       0.74      0.62      0.57       205\n",
      "\n"
     ]
    }
   ],
   "source": [
    "# define the model and fit to training data\n",
    "#weights={0:1.0,1:10.0}\n",
    "model_DT_over=DecisionTreeClassifier(criterion='gini',max_depth=3,class_weight=\"balanced\",min_samples_leaf=5)\n",
    "model_DT_over=model_DT_over.fit(X_train_over.loc[:,X_train_over.columns!='Revenue_CC'],y_train_over)\n",
    "\n",
    "# Calculate weights of each feature\n",
    "importance=model_DT_over.feature_importances_\n",
    "\n",
    "#summarize feature importance\n",
    "df=pd.DataFrame({'Feature':X.columns,'Importance':importance})\n",
    "df.set_index('Feature',inplace=True)\n",
    "df.sort_values(by='Importance',ascending=False,inplace=True)\n",
    "\n",
    "#get predictions from the model\n",
    "y_pred_DT_over=model_DT_over.predict(X_test_over.loc[:,X_test_over.columns!='Revenue_CC'])\n",
    "\n",
    "# Probability of predictions\n",
    "pred_prob_over=model_DT_over.predict_proba(X_test_over.loc[:,X_test_over.columns!='Revenue_CC'])[:,1]  # probability for class value 1\n",
    "\n",
    "target_names=['Sales_CC']\n",
    "print(classification_report(y_test_over,y_pred_DT_over))"
   ]
  },
  {
   "cell_type": "code",
   "execution_count": 250,
   "id": "5bcd498f",
   "metadata": {},
   "outputs": [
    {
     "name": "stdout",
     "output_type": "stream",
     "text": [
      "Feature importance:                               Importance\n",
      "Feature                                 \n",
      "ActBal_SA                       0.408571\n",
      "ActBal_CA                       0.290331\n",
      "TransactionsDebCash_Card        0.156695\n",
      "Count_OVD                       0.068945\n",
      "TransactionsDeb_CA              0.051363\n",
      "ActBal_CL                       0.013220\n",
      "VolumeDeb_CA                    0.010875\n",
      "VolumeDeb                       0.000000\n",
      "VolumeCred_CA                   0.000000\n",
      "TransactionsCred                0.000000\n",
      "TransactionsCred_CA             0.000000\n",
      "Client                          0.000000\n",
      "VolumeDebCash_Card              0.000000\n",
      "VolumeDebCashless_Card          0.000000\n",
      "VolumeDeb_PaymentOrder          0.000000\n",
      "TransactionsDeb                 0.000000\n",
      "TransactionsDebCashless_Card    0.000000\n",
      "VolumeCred                      0.000000\n",
      "ActBal_OVD                      0.000000\n",
      "ActBal_CC                       0.000000\n",
      "Age                             0.000000\n",
      "ActBal_MF                       0.000000\n",
      "Count_CL                        0.000000\n",
      "Count_CC                        0.000000\n",
      "Count_MF                        0.000000\n",
      "Count_SA                        0.000000\n",
      "Count_CA                        0.000000\n",
      "Tenure_years                    0.000000\n",
      "Sex_Other                       0.000000\n",
      "Sex_M                           0.000000\n",
      "Sex_F                           0.000000\n",
      "Tenure                          0.000000\n",
      "TransactionsDeb_PaymentOrder    0.000000\n",
      "\n"
     ]
    }
   ],
   "source": [
    "print(\"Feature importance: {0}\\n\".format(df))"
   ]
  },
  {
   "cell_type": "markdown",
   "id": "0140616b",
   "metadata": {},
   "source": [
    "There does seem to be an improvement in evaluation metrics, especially for class 1. Now get propensity and revenue scores from the model"
   ]
  },
  {
   "cell_type": "code",
   "execution_count": 251,
   "id": "b8f42c90",
   "metadata": {},
   "outputs": [
    {
     "data": {
      "text/html": [
       "<div>\n",
       "<style scoped>\n",
       "    .dataframe tbody tr th:only-of-type {\n",
       "        vertical-align: middle;\n",
       "    }\n",
       "\n",
       "    .dataframe tbody tr th {\n",
       "        vertical-align: top;\n",
       "    }\n",
       "\n",
       "    .dataframe thead th {\n",
       "        text-align: right;\n",
       "    }\n",
       "</style>\n",
       "<table border=\"1\" class=\"dataframe\">\n",
       "  <thead>\n",
       "    <tr style=\"text-align: right;\">\n",
       "      <th></th>\n",
       "      <th>Client</th>\n",
       "      <th>Propensity</th>\n",
       "      <th>Revenue</th>\n",
       "      <th>Revenue_adjusted</th>\n",
       "    </tr>\n",
       "  </thead>\n",
       "  <tbody>\n",
       "    <tr>\n",
       "      <th>1270</th>\n",
       "      <td>1303</td>\n",
       "      <td>1.000000</td>\n",
       "      <td>6.000000</td>\n",
       "      <td>6.000000</td>\n",
       "    </tr>\n",
       "    <tr>\n",
       "      <th>1085</th>\n",
       "      <td>33</td>\n",
       "      <td>1.000000</td>\n",
       "      <td>3.250000</td>\n",
       "      <td>3.250000</td>\n",
       "    </tr>\n",
       "    <tr>\n",
       "      <th>1255</th>\n",
       "      <td>478</td>\n",
       "      <td>1.000000</td>\n",
       "      <td>4.500000</td>\n",
       "      <td>4.500000</td>\n",
       "    </tr>\n",
       "    <tr>\n",
       "      <th>564</th>\n",
       "      <td>1000</td>\n",
       "      <td>1.000000</td>\n",
       "      <td>0.000000</td>\n",
       "      <td>0.000000</td>\n",
       "    </tr>\n",
       "    <tr>\n",
       "      <th>761</th>\n",
       "      <td>1344</td>\n",
       "      <td>1.000000</td>\n",
       "      <td>2.857143</td>\n",
       "      <td>2.857143</td>\n",
       "    </tr>\n",
       "    <tr>\n",
       "      <th>...</th>\n",
       "      <td>...</td>\n",
       "      <td>...</td>\n",
       "      <td>...</td>\n",
       "      <td>...</td>\n",
       "    </tr>\n",
       "    <tr>\n",
       "      <th>341</th>\n",
       "      <td>610</td>\n",
       "      <td>0.435831</td>\n",
       "      <td>0.000000</td>\n",
       "      <td>0.000000</td>\n",
       "    </tr>\n",
       "    <tr>\n",
       "      <th>276</th>\n",
       "      <td>499</td>\n",
       "      <td>0.435831</td>\n",
       "      <td>0.000000</td>\n",
       "      <td>0.000000</td>\n",
       "    </tr>\n",
       "    <tr>\n",
       "      <th>725</th>\n",
       "      <td>1287</td>\n",
       "      <td>0.435831</td>\n",
       "      <td>1.964286</td>\n",
       "      <td>0.856096</td>\n",
       "    </tr>\n",
       "    <tr>\n",
       "      <th>741</th>\n",
       "      <td>1311</td>\n",
       "      <td>0.435831</td>\n",
       "      <td>0.000000</td>\n",
       "      <td>0.000000</td>\n",
       "    </tr>\n",
       "    <tr>\n",
       "      <th>161</th>\n",
       "      <td>288</td>\n",
       "      <td>0.435831</td>\n",
       "      <td>0.000000</td>\n",
       "      <td>0.000000</td>\n",
       "    </tr>\n",
       "  </tbody>\n",
       "</table>\n",
       "<p>189 rows × 4 columns</p>\n",
       "</div>"
      ],
      "text/plain": [
       "      Client  Propensity   Revenue  Revenue_adjusted\n",
       "1270    1303    1.000000  6.000000          6.000000\n",
       "1085      33    1.000000  3.250000          3.250000\n",
       "1255     478    1.000000  4.500000          4.500000\n",
       "564     1000    1.000000  0.000000          0.000000\n",
       "761     1344    1.000000  2.857143          2.857143\n",
       "...      ...         ...       ...               ...\n",
       "341      610    0.435831  0.000000          0.000000\n",
       "276      499    0.435831  0.000000          0.000000\n",
       "725     1287    0.435831  1.964286          0.856096\n",
       "741     1311    0.435831  0.000000          0.000000\n",
       "161      288    0.435831  0.000000          0.000000\n",
       "\n",
       "[189 rows x 4 columns]"
      ]
     },
     "execution_count": 251,
     "metadata": {},
     "output_type": "execute_result"
    }
   ],
   "source": [
    "clients=X_test_over.loc[:,'Client']\n",
    "propensity=pred_prob_over\n",
    "Propensity_CC_over=pd.DataFrame({\"Client\":clients,\"Propensity\":propensity})\n",
    "\n",
    "Propensity_CC_over.drop_duplicates(subset=['Client'],inplace=True)\n",
    "Propensity_CC_over['Propensity'].shape\n",
    "clients=Propensity_CC_over['Client']\n",
    "\n",
    "revenue=X_test_over.query('Client in @clients')['Revenue_CC']\n",
    "revenue_adjusted=revenue.multiply(Propensity_CC_over['Propensity'])\n",
    "\n",
    "# Add adjusted revenue field by multiplying revenue and propensity to buy the corresponding product\n",
    "Propensity_CC_over['Revenue'] = revenue\n",
    "Propensity_CC_over['Revenue_adjusted'] = revenue_adjusted\n",
    "Propensity_CC_over.sort_values(\"Propensity\",ascending=False, inplace=True)\n",
    "Propensity_CC_over"
   ]
  },
  {
   "cell_type": "markdown",
   "id": "48a392b2",
   "metadata": {},
   "source": [
    "## Model for customer propensity to buy consumer loan"
   ]
  },
  {
   "cell_type": "code",
   "execution_count": 252,
   "id": "c404633c",
   "metadata": {},
   "outputs": [],
   "source": [
    "# Using normalized data\n",
    "X=data_norm.iloc[:,:33] \n",
    "y=data_norm.iloc[:,35:36] \n",
    "revenue_CL = data_norm.iloc[:,38]\n",
    "X_revenue=pd.concat([X,revenue_CL],axis=1)"
   ]
  },
  {
   "cell_type": "code",
   "execution_count": 253,
   "id": "ba9dea93",
   "metadata": {},
   "outputs": [],
   "source": [
    "# Splitting data into training and test sets\n",
    "X_train, X_test, y_train, y_test = train_test_split(X,y,test_size=0.15, random_state=0,stratify=y) "
   ]
  },
  {
   "cell_type": "markdown",
   "id": "0db05f4f",
   "metadata": {},
   "source": [
    "### Training a Decision Tree Classifier"
   ]
  },
  {
   "cell_type": "code",
   "execution_count": 254,
   "id": "2be37ad7",
   "metadata": {},
   "outputs": [
    {
     "name": "stdout",
     "output_type": "stream",
     "text": [
      "              precision    recall  f1-score   support\n",
      "\n",
      "           0       0.77      0.76      0.77        97\n",
      "           1       0.44      0.45      0.44        40\n",
      "\n",
      "    accuracy                           0.67       137\n",
      "   macro avg       0.60      0.61      0.61       137\n",
      "weighted avg       0.67      0.67      0.67       137\n",
      "\n"
     ]
    }
   ],
   "source": [
    "# define the model and fit to training data\n",
    "#weights={0:1.0,1:10.0}\n",
    "model_gini=DecisionTreeClassifier(criterion='gini',max_depth=3,class_weight=\"balanced\",min_samples_leaf=5)\n",
    "model_gini=model_gini.fit(X_train,y_train)\n",
    "\n",
    "#get predictions from the model\n",
    "y_pred_gini=model_gini.predict(X_test)\n",
    "target_names=['Sales_CL']\n",
    "print(classification_report(y_test,y_pred_gini))"
   ]
  },
  {
   "cell_type": "code",
   "execution_count": 255,
   "id": "774dd9ea",
   "metadata": {},
   "outputs": [
    {
     "data": {
      "text/plain": [
       "array([0.92133417, 0.40710285, 0.40710285, 0.43879449, 0.43879449,\n",
       "       0.43879449, 0.16223404, 0.40710285, 0.43879449, 0.66745334,\n",
       "       0.92133417, 0.40710285, 0.43879449, 0.40710285, 0.16223404,\n",
       "       0.52025586, 0.43879449, 0.40710285, 0.52025586, 0.40710285,\n",
       "       0.52025586, 0.40710285, 0.66745334, 0.66745334, 0.66745334,\n",
       "       0.66745334, 0.43879449, 0.92133417, 0.91652755, 0.92133417,\n",
       "       0.40710285, 0.40710285, 0.43879449, 0.16223404, 0.52025586,\n",
       "       0.40710285, 0.52025586, 0.40710285, 0.40710285, 0.43879449,\n",
       "       0.66745334, 0.66745334, 0.40710285, 0.40710285, 0.43879449,\n",
       "       0.40710285, 0.43879449, 0.43879449, 0.16223404, 0.16223404,\n",
       "       0.92133417, 0.40710285, 0.43879449, 0.40710285, 0.40710285,\n",
       "       0.43879449, 0.43879449, 0.16223404, 0.16223404, 0.40710285,\n",
       "       0.40710285, 0.43879449, 0.16223404, 0.66745334, 0.43879449,\n",
       "       0.16223404, 0.43879449, 0.43879449, 0.40710285, 0.66745334,\n",
       "       0.43879449, 0.40710285, 0.40710285, 0.43879449, 0.40710285,\n",
       "       0.43879449, 0.52025586, 0.43879449, 0.43879449, 0.66745334,\n",
       "       0.40710285, 0.52025586, 0.43879449, 0.43879449, 0.40710285,\n",
       "       0.40710285, 0.43879449, 0.66745334, 0.43879449, 0.40710285,\n",
       "       0.16223404, 0.16223404, 0.43879449, 0.43879449, 0.40710285,\n",
       "       0.52025586, 0.43879449, 0.43879449, 0.52025586, 0.16223404,\n",
       "       0.92133417, 0.52025586, 0.43879449, 0.16223404, 0.66745334,\n",
       "       0.43879449, 0.40710285, 0.93606138, 0.91652755, 0.40710285,\n",
       "       0.43879449, 0.40710285, 0.43879449, 0.52025586, 0.91652755,\n",
       "       0.43879449, 0.52025586, 0.40710285, 0.43879449, 0.43879449,\n",
       "       0.91652755, 0.66745334, 0.40710285, 0.91652755, 0.40710285,\n",
       "       0.52025586, 0.16223404, 0.66745334, 0.66745334, 0.43879449,\n",
       "       0.40710285, 0.40710285, 0.52025586, 0.40710285, 0.43879449,\n",
       "       0.40710285, 0.40710285])"
      ]
     },
     "execution_count": 255,
     "metadata": {},
     "output_type": "execute_result"
    }
   ],
   "source": [
    "# Predict propensity \n",
    "pred_prob=model_gini.predict_proba(X_test)[:,1]\n",
    "pred_prob"
   ]
  },
  {
   "cell_type": "code",
   "execution_count": 257,
   "id": "076c1145",
   "metadata": {},
   "outputs": [
    {
     "data": {
      "text/html": [
       "<div>\n",
       "<style scoped>\n",
       "    .dataframe tbody tr th:only-of-type {\n",
       "        vertical-align: middle;\n",
       "    }\n",
       "\n",
       "    .dataframe tbody tr th {\n",
       "        vertical-align: top;\n",
       "    }\n",
       "\n",
       "    .dataframe thead th {\n",
       "        text-align: right;\n",
       "    }\n",
       "</style>\n",
       "<table border=\"1\" class=\"dataframe\">\n",
       "  <thead>\n",
       "    <tr style=\"text-align: right;\">\n",
       "      <th></th>\n",
       "      <th>Client</th>\n",
       "      <th>Revenue</th>\n",
       "      <th>Propensity</th>\n",
       "      <th>Revenue_adjusted</th>\n",
       "    </tr>\n",
       "  </thead>\n",
       "  <tbody>\n",
       "    <tr>\n",
       "      <th>718</th>\n",
       "      <td>1277</td>\n",
       "      <td>0.000000</td>\n",
       "      <td>0.936061</td>\n",
       "      <td>0.000000</td>\n",
       "    </tr>\n",
       "    <tr>\n",
       "      <th>63</th>\n",
       "      <td>108</td>\n",
       "      <td>0.000000</td>\n",
       "      <td>0.921334</td>\n",
       "      <td>0.000000</td>\n",
       "    </tr>\n",
       "    <tr>\n",
       "      <th>319</th>\n",
       "      <td>576</td>\n",
       "      <td>0.000000</td>\n",
       "      <td>0.921334</td>\n",
       "      <td>0.000000</td>\n",
       "    </tr>\n",
       "    <tr>\n",
       "      <th>160</th>\n",
       "      <td>287</td>\n",
       "      <td>0.000000</td>\n",
       "      <td>0.921334</td>\n",
       "      <td>0.000000</td>\n",
       "    </tr>\n",
       "    <tr>\n",
       "      <th>645</th>\n",
       "      <td>1152</td>\n",
       "      <td>0.000000</td>\n",
       "      <td>0.921334</td>\n",
       "      <td>0.000000</td>\n",
       "    </tr>\n",
       "    <tr>\n",
       "      <th>...</th>\n",
       "      <td>...</td>\n",
       "      <td>...</td>\n",
       "      <td>...</td>\n",
       "      <td>...</td>\n",
       "    </tr>\n",
       "    <tr>\n",
       "      <th>191</th>\n",
       "      <td>349</td>\n",
       "      <td>0.000000</td>\n",
       "      <td>0.162234</td>\n",
       "      <td>0.000000</td>\n",
       "    </tr>\n",
       "    <tr>\n",
       "      <th>583</th>\n",
       "      <td>1030</td>\n",
       "      <td>8.428571</td>\n",
       "      <td>0.162234</td>\n",
       "      <td>1.367401</td>\n",
       "    </tr>\n",
       "    <tr>\n",
       "      <th>92</th>\n",
       "      <td>167</td>\n",
       "      <td>0.000000</td>\n",
       "      <td>0.162234</td>\n",
       "      <td>0.000000</td>\n",
       "    </tr>\n",
       "    <tr>\n",
       "      <th>808</th>\n",
       "      <td>1425</td>\n",
       "      <td>24.250000</td>\n",
       "      <td>0.162234</td>\n",
       "      <td>3.934176</td>\n",
       "    </tr>\n",
       "    <tr>\n",
       "      <th>294</th>\n",
       "      <td>534</td>\n",
       "      <td>0.000000</td>\n",
       "      <td>0.162234</td>\n",
       "      <td>0.000000</td>\n",
       "    </tr>\n",
       "  </tbody>\n",
       "</table>\n",
       "<p>137 rows × 4 columns</p>\n",
       "</div>"
      ],
      "text/plain": [
       "     Client    Revenue  Propensity  Revenue_adjusted\n",
       "718    1277   0.000000    0.936061          0.000000\n",
       "63      108   0.000000    0.921334          0.000000\n",
       "319     576   0.000000    0.921334          0.000000\n",
       "160     287   0.000000    0.921334          0.000000\n",
       "645    1152   0.000000    0.921334          0.000000\n",
       "..      ...        ...         ...               ...\n",
       "191     349   0.000000    0.162234          0.000000\n",
       "583    1030   8.428571    0.162234          1.367401\n",
       "92      167   0.000000    0.162234          0.000000\n",
       "808    1425  24.250000    0.162234          3.934176\n",
       "294     534   0.000000    0.162234          0.000000\n",
       "\n",
       "[137 rows x 4 columns]"
      ]
     },
     "execution_count": 257,
     "metadata": {},
     "output_type": "execute_result"
    }
   ],
   "source": [
    "clients=X_test.loc[:,'Client']\n",
    "revenue=data.query('Client in @clients')['Revenue_CL']\n",
    "propensity=pred_prob\n",
    "revenue_adjusted=revenue.multiply(propensity)\n",
    "\n",
    "Propensity_CL=pd.DataFrame({\"Client\":clients, \"Revenue\":revenue,\"Propensity\":propensity})\n",
    "Propensity_CL.sort_values(\"Propensity\",ascending=False,inplace=True)\n",
    "\n",
    "# Add adjusted revenue field by multiplying revenue and propensity to buy the corresponding product\n",
    "Propensity_CL['Revenue_adjusted'] = revenue_adjusted\n",
    "Propensity_CL.sort_values(\"Propensity\",ascending=False, inplace=True)\n",
    "Propensity_CL"
   ]
  },
  {
   "cell_type": "markdown",
   "id": "ddad1136",
   "metadata": {},
   "source": [
    "### Feature selection using Decision tree"
   ]
  },
  {
   "cell_type": "markdown",
   "id": "f16cc751",
   "metadata": {},
   "source": [
    "The goal is to use decision tree classifier to reduce dimensions of the data (feature selection), after which the machine learning model should be able to perform the same as before, or better."
   ]
  },
  {
   "cell_type": "code",
   "execution_count": 258,
   "id": "87bf1f18",
   "metadata": {},
   "outputs": [
    {
     "data": {
      "text/html": [
       "<div>\n",
       "<style scoped>\n",
       "    .dataframe tbody tr th:only-of-type {\n",
       "        vertical-align: middle;\n",
       "    }\n",
       "\n",
       "    .dataframe tbody tr th {\n",
       "        vertical-align: top;\n",
       "    }\n",
       "\n",
       "    .dataframe thead th {\n",
       "        text-align: right;\n",
       "    }\n",
       "</style>\n",
       "<table border=\"1\" class=\"dataframe\">\n",
       "  <thead>\n",
       "    <tr style=\"text-align: right;\">\n",
       "      <th></th>\n",
       "      <th>Importance</th>\n",
       "    </tr>\n",
       "    <tr>\n",
       "      <th>Feature</th>\n",
       "      <th></th>\n",
       "    </tr>\n",
       "  </thead>\n",
       "  <tbody>\n",
       "    <tr>\n",
       "      <th>ActBal_CA</th>\n",
       "      <td>0.117215</td>\n",
       "    </tr>\n",
       "    <tr>\n",
       "      <th>Tenure</th>\n",
       "      <td>0.089351</td>\n",
       "    </tr>\n",
       "    <tr>\n",
       "      <th>Age</th>\n",
       "      <td>0.076415</td>\n",
       "    </tr>\n",
       "    <tr>\n",
       "      <th>Tenure_years</th>\n",
       "      <td>0.058582</td>\n",
       "    </tr>\n",
       "    <tr>\n",
       "      <th>TransactionsCred</th>\n",
       "      <td>0.052792</td>\n",
       "    </tr>\n",
       "    <tr>\n",
       "      <th>TransactionsDeb_CA</th>\n",
       "      <td>0.050496</td>\n",
       "    </tr>\n",
       "    <tr>\n",
       "      <th>VolumeCred</th>\n",
       "      <td>0.047273</td>\n",
       "    </tr>\n",
       "    <tr>\n",
       "      <th>VolumeDeb</th>\n",
       "      <td>0.045279</td>\n",
       "    </tr>\n",
       "    <tr>\n",
       "      <th>TransactionsDeb_PaymentOrder</th>\n",
       "      <td>0.045241</td>\n",
       "    </tr>\n",
       "    <tr>\n",
       "      <th>Client</th>\n",
       "      <td>0.045135</td>\n",
       "    </tr>\n",
       "    <tr>\n",
       "      <th>VolumeDeb_PaymentOrder</th>\n",
       "      <td>0.041172</td>\n",
       "    </tr>\n",
       "    <tr>\n",
       "      <th>TransactionsDeb</th>\n",
       "      <td>0.037709</td>\n",
       "    </tr>\n",
       "    <tr>\n",
       "      <th>VolumeDeb_CA</th>\n",
       "      <td>0.033974</td>\n",
       "    </tr>\n",
       "    <tr>\n",
       "      <th>ActBal_SA</th>\n",
       "      <td>0.032118</td>\n",
       "    </tr>\n",
       "    <tr>\n",
       "      <th>TransactionsDebCash_Card</th>\n",
       "      <td>0.030820</td>\n",
       "    </tr>\n",
       "    <tr>\n",
       "      <th>TransactionsCred_CA</th>\n",
       "      <td>0.029940</td>\n",
       "    </tr>\n",
       "    <tr>\n",
       "      <th>VolumeDebCash_Card</th>\n",
       "      <td>0.023163</td>\n",
       "    </tr>\n",
       "    <tr>\n",
       "      <th>Sex_F</th>\n",
       "      <td>0.020288</td>\n",
       "    </tr>\n",
       "    <tr>\n",
       "      <th>Count_SA</th>\n",
       "      <td>0.018661</td>\n",
       "    </tr>\n",
       "    <tr>\n",
       "      <th>VolumeDebCashless_Card</th>\n",
       "      <td>0.017139</td>\n",
       "    </tr>\n",
       "    <tr>\n",
       "      <th>Count_MF</th>\n",
       "      <td>0.014786</td>\n",
       "    </tr>\n",
       "    <tr>\n",
       "      <th>ActBal_MF</th>\n",
       "      <td>0.014223</td>\n",
       "    </tr>\n",
       "    <tr>\n",
       "      <th>VolumeCred_CA</th>\n",
       "      <td>0.012649</td>\n",
       "    </tr>\n",
       "    <tr>\n",
       "      <th>ActBal_CL</th>\n",
       "      <td>0.011199</td>\n",
       "    </tr>\n",
       "    <tr>\n",
       "      <th>TransactionsDebCashless_Card</th>\n",
       "      <td>0.007521</td>\n",
       "    </tr>\n",
       "    <tr>\n",
       "      <th>Count_CA</th>\n",
       "      <td>0.006812</td>\n",
       "    </tr>\n",
       "    <tr>\n",
       "      <th>Sex_M</th>\n",
       "      <td>0.005913</td>\n",
       "    </tr>\n",
       "    <tr>\n",
       "      <th>ActBal_OVD</th>\n",
       "      <td>0.005090</td>\n",
       "    </tr>\n",
       "    <tr>\n",
       "      <th>Sex_Other</th>\n",
       "      <td>0.004636</td>\n",
       "    </tr>\n",
       "    <tr>\n",
       "      <th>ActBal_CC</th>\n",
       "      <td>0.004409</td>\n",
       "    </tr>\n",
       "    <tr>\n",
       "      <th>Count_CC</th>\n",
       "      <td>0.000000</td>\n",
       "    </tr>\n",
       "    <tr>\n",
       "      <th>Count_CL</th>\n",
       "      <td>0.000000</td>\n",
       "    </tr>\n",
       "    <tr>\n",
       "      <th>Count_OVD</th>\n",
       "      <td>0.000000</td>\n",
       "    </tr>\n",
       "  </tbody>\n",
       "</table>\n",
       "</div>"
      ],
      "text/plain": [
       "                              Importance\n",
       "Feature                                 \n",
       "ActBal_CA                       0.117215\n",
       "Tenure                          0.089351\n",
       "Age                             0.076415\n",
       "Tenure_years                    0.058582\n",
       "TransactionsCred                0.052792\n",
       "TransactionsDeb_CA              0.050496\n",
       "VolumeCred                      0.047273\n",
       "VolumeDeb                       0.045279\n",
       "TransactionsDeb_PaymentOrder    0.045241\n",
       "Client                          0.045135\n",
       "VolumeDeb_PaymentOrder          0.041172\n",
       "TransactionsDeb                 0.037709\n",
       "VolumeDeb_CA                    0.033974\n",
       "ActBal_SA                       0.032118\n",
       "TransactionsDebCash_Card        0.030820\n",
       "TransactionsCred_CA             0.029940\n",
       "VolumeDebCash_Card              0.023163\n",
       "Sex_F                           0.020288\n",
       "Count_SA                        0.018661\n",
       "VolumeDebCashless_Card          0.017139\n",
       "Count_MF                        0.014786\n",
       "ActBal_MF                       0.014223\n",
       "VolumeCred_CA                   0.012649\n",
       "ActBal_CL                       0.011199\n",
       "TransactionsDebCashless_Card    0.007521\n",
       "Count_CA                        0.006812\n",
       "Sex_M                           0.005913\n",
       "ActBal_OVD                      0.005090\n",
       "Sex_Other                       0.004636\n",
       "ActBal_CC                       0.004409\n",
       "Count_CC                        0.000000\n",
       "Count_CL                        0.000000\n",
       "Count_OVD                       0.000000"
      ]
     },
     "execution_count": 258,
     "metadata": {},
     "output_type": "execute_result"
    }
   ],
   "source": [
    "#define the model\n",
    "model=DecisionTreeClassifier() # default split criterion: gini \n",
    "#fit the model with X,y data\n",
    "model.fit(X,y)\n",
    "#get feature importance\n",
    "importance=model.feature_importances_\n",
    "#summarize feature importance\n",
    "df=pd.DataFrame({'Feature':X.columns,'Importance':importance})\n",
    "df.set_index('Feature',inplace=True)\n",
    "df.sort_values(by='Importance',ascending=False,inplace=True)\n",
    "df"
   ]
  },
  {
   "cell_type": "code",
   "execution_count": 259,
   "id": "dd4f4120",
   "metadata": {},
   "outputs": [],
   "source": [
    "# Include features with importance scores > 0.01\n",
    "cols_to_include=df[df['Importance']>0.01].index.tolist()"
   ]
  },
  {
   "cell_type": "markdown",
   "id": "9929c401",
   "metadata": {},
   "source": [
    "### Training a Decision tree classifier with selected features"
   ]
  },
  {
   "cell_type": "code",
   "execution_count": 260,
   "id": "8242ba6e",
   "metadata": {},
   "outputs": [
    {
     "name": "stdout",
     "output_type": "stream",
     "text": [
      "              precision    recall  f1-score   support\n",
      "\n",
      "           0       0.77      0.76      0.77        97\n",
      "           1       0.44      0.45      0.44        40\n",
      "\n",
      "    accuracy                           0.67       137\n",
      "   macro avg       0.60      0.61      0.61       137\n",
      "weighted avg       0.67      0.67      0.67       137\n",
      "\n"
     ]
    }
   ],
   "source": [
    "# define the model and fit to training data\n",
    "#weights={0:1.0,1:10.0}\n",
    "model_gini=DecisionTreeClassifier(criterion='gini',max_depth=3,class_weight=\"balanced\",min_samples_leaf=5)\n",
    "model_gini=model_gini.fit(X_train.loc[:,cols_to_include],y_train)\n",
    "\n",
    "#get predictions from the model\n",
    "y_pred=model_gini.predict(X_test.loc[:,cols_to_include])\n",
    "target_names=['Sales_MF']\n",
    "print(classification_report(y_test,y_pred))"
   ]
  },
  {
   "cell_type": "markdown",
   "id": "a920e620",
   "metadata": {},
   "source": [
    "Comparing precision, recall and F1 scores before and after feature selection, it is evident that with reduced set of features, the model performance does not change after reducing a number of features. Hence, this step acts as dimension reduction."
   ]
  },
  {
   "cell_type": "markdown",
   "id": "6ae5abda",
   "metadata": {},
   "source": [
    "### Handling imbalanced data "
   ]
  },
  {
   "cell_type": "markdown",
   "id": "1a00d330",
   "metadata": {},
   "source": [
    "Visualize the distribution of target variable (Sales) in class values 0 and 1Visualize the distribution of target variable (Sales) in class values 0 and 1. Often times, a mismatch in target data distribution hampers the learning capacity of the machine learning model."
   ]
  },
  {
   "cell_type": "code",
   "execution_count": 261,
   "id": "122e0b46",
   "metadata": {},
   "outputs": [
    {
     "data": {
      "text/plain": [
       "Text(0, 0.5, 'Count')"
      ]
     },
     "execution_count": 261,
     "metadata": {},
     "output_type": "execute_result"
    },
    {
     "data": {
      "image/png": "[encoded data removed]",
      "text/plain": [
       "<Figure size 504x504 with 1 Axes>"
      ]
     },
     "metadata": {
      "needs_background": "light"
     },
     "output_type": "display_data"
    }
   ],
   "source": [
    "# Visualize target data distribution\n",
    "plotdata=pd.DataFrame({\n",
    "    \"Sales_0\":[y_train.value_counts()[0],y_test.value_counts()[0]],\n",
    "    \"Sales_1\":[y_train.value_counts()[1],y_test.value_counts()[1]]},\n",
    "     index=[\"y_train\",\"y_test\"])\n",
    "plotdata.plot(kind=\"bar\",figsize=(7,7))\n",
    "plt.xticks(rotation=\"horizontal\")\n",
    "plt.title(\"Target variable distribution\")\n",
    "plt.ylabel(\"Count\")"
   ]
  },
  {
   "cell_type": "markdown",
   "id": "20502ed8",
   "metadata": {},
   "source": [
    "Note that the data available for Sales_1 field is far lesser than the data available for Sales_0 field. This could contribute to poor model performance. There are many ways to handle imbalance in datasets: namely Undersampling, Oversampling, Generation of synthetic data using SMOTE. Among all these methods, undersampling is not applicable for this problem, because we already have insufficient data to start with. Hence, oversampling is used to handle the problem of imbalanced data in this case."
   ]
  },
  {
   "cell_type": "code",
   "execution_count": 262,
   "id": "3f34e295",
   "metadata": {},
   "outputs": [],
   "source": [
    "# Using oversampling to handle the imbalance in proportion of samples belonging to Sales_0 and Sales_1\n",
    "# define oversampling strategy\n",
    "oversample = RandomOverSampler(sampling_strategy='minority')\n",
    "\n",
    "# fit and apply the transform\n",
    "X_over, y_over = oversample.fit_resample(X_revenue,y)"
   ]
  },
  {
   "cell_type": "code",
   "execution_count": 263,
   "id": "a10556e4",
   "metadata": {},
   "outputs": [],
   "source": [
    "# Splitting data into training and test sets\n",
    "X_train_over, X_test_over, y_train_over, y_test_over = train_test_split(X_over,y_over,test_size=0.15, random_state=0,stratify=y_over) "
   ]
  },
  {
   "cell_type": "code",
   "execution_count": 264,
   "id": "14613327",
   "metadata": {},
   "outputs": [
    {
     "data": {
      "text/plain": [
       "Text(0, 0.5, 'Count')"
      ]
     },
     "execution_count": 264,
     "metadata": {},
     "output_type": "execute_result"
    },
    {
     "data": {
      "image/png": "[encoded data removed]",
      "text/plain": [
       "<Figure size 504x504 with 1 Axes>"
      ]
     },
     "metadata": {
      "needs_background": "light"
     },
     "output_type": "display_data"
    }
   ],
   "source": [
    "# Visualize target data distribution for over-sampled data\n",
    "plotdata=pd.DataFrame({\n",
    "    \"Sales_0\":[y_train_over.value_counts()[0],y_test_over.value_counts()[0]],\n",
    "    \"Sales_1\":[y_train_over.value_counts()[1],y_test_over.value_counts()[1]]},\n",
    "     index=[\"y_train\",\"y_test\"])\n",
    "plotdata.plot(kind=\"bar\",figsize=(7,7))\n",
    "plt.xticks(rotation=\"horizontal\")\n",
    "plt.title(\"Target variable distribution after oversampling\")\n",
    "plt.ylabel(\"Count\")"
   ]
  },
  {
   "cell_type": "markdown",
   "id": "eaac2347",
   "metadata": {},
   "source": [
    "Now train the Decision tree classifier with the oversampled data"
   ]
  },
  {
   "cell_type": "markdown",
   "id": "a09f7917",
   "metadata": {},
   "source": [
    "### Training Decision tree classifier with the balanced data"
   ]
  },
  {
   "cell_type": "code",
   "execution_count": 265,
   "id": "bc2f1fd4",
   "metadata": {},
   "outputs": [
    {
     "name": "stdout",
     "output_type": "stream",
     "text": [
      "              precision    recall  f1-score   support\n",
      "\n",
      "           0       0.56      0.78      0.66        97\n",
      "           1       0.64      0.39      0.49        97\n",
      "\n",
      "    accuracy                           0.59       194\n",
      "   macro avg       0.60      0.59      0.57       194\n",
      "weighted avg       0.60      0.59      0.57       194\n",
      "\n"
     ]
    }
   ],
   "source": [
    "# define the model and fit to training data\n",
    "#weights={0:1.0,1:10.0}\n",
    "model_DT_over=DecisionTreeClassifier(criterion='gini',max_depth=3,class_weight=\"balanced\",min_samples_leaf=5)\n",
    "model_DT_over=model_DT_over.fit(X_train_over.loc[:,X_train_over.columns!='Revenue_CL'],y_train_over)\n",
    "\n",
    "# Calculate weights of each feature\n",
    "importance=model_DT_over.feature_importances_\n",
    "\n",
    "#summarize feature importance\n",
    "df=pd.DataFrame({'Feature':X.columns,'Importance':importance})\n",
    "df.set_index('Feature',inplace=True)\n",
    "df.sort_values(by='Importance',ascending=False,inplace=True)\n",
    "\n",
    "\n",
    "#get predictions from the model\n",
    "y_pred_DT_over=model_DT_over.predict(X_test_over.loc[:,X_test_over.columns!='Revenue_CL'])\n",
    "\n",
    "# Probability of predictions\n",
    "pred_prob_over=model_DT_over.predict_proba(X_test_over.loc[:,X_test_over.columns!='Revenue_CL'])[:,1]  # probability for class value 1\n",
    "\n",
    "target_names=['Sales_CL']\n",
    "print(classification_report(y_test_over,y_pred_DT_over))"
   ]
  },
  {
   "cell_type": "code",
   "execution_count": 266,
   "id": "0588de2b",
   "metadata": {},
   "outputs": [
    {
     "name": "stdout",
     "output_type": "stream",
     "text": [
      "Feature importance:                               Importance\n",
      "Feature                                 \n",
      "Tenure                          0.364030\n",
      "Age                             0.273344\n",
      "ActBal_CA                       0.193775\n",
      "VolumeCred_CA                   0.087215\n",
      "Client                          0.081637\n",
      "VolumeDeb_CA                    0.000000\n",
      "TransactionsCred                0.000000\n",
      "TransactionsCred_CA             0.000000\n",
      "VolumeDeb                       0.000000\n",
      "VolumeDebCash_Card              0.000000\n",
      "ActBal_CL                       0.000000\n",
      "VolumeDebCashless_Card          0.000000\n",
      "VolumeDeb_PaymentOrder          0.000000\n",
      "TransactionsDeb                 0.000000\n",
      "TransactionsDeb_CA              0.000000\n",
      "TransactionsDebCash_Card        0.000000\n",
      "TransactionsDebCashless_Card    0.000000\n",
      "VolumeCred                      0.000000\n",
      "ActBal_OVD                      0.000000\n",
      "ActBal_CC                       0.000000\n",
      "ActBal_MF                       0.000000\n",
      "ActBal_SA                       0.000000\n",
      "Count_CL                        0.000000\n",
      "Count_CC                        0.000000\n",
      "Count_OVD                       0.000000\n",
      "Count_MF                        0.000000\n",
      "Count_SA                        0.000000\n",
      "Count_CA                        0.000000\n",
      "Tenure_years                    0.000000\n",
      "Sex_Other                       0.000000\n",
      "Sex_M                           0.000000\n",
      "Sex_F                           0.000000\n",
      "TransactionsDeb_PaymentOrder    0.000000\n",
      "\n"
     ]
    }
   ],
   "source": [
    "print(\"Feature importance: {0}\\n\".format(df))"
   ]
  },
  {
   "cell_type": "code",
   "execution_count": 267,
   "id": "4254e376",
   "metadata": {},
   "outputs": [
    {
     "data": {
      "text/html": [
       "<div>\n",
       "<style scoped>\n",
       "    .dataframe tbody tr th:only-of-type {\n",
       "        vertical-align: middle;\n",
       "    }\n",
       "\n",
       "    .dataframe tbody tr th {\n",
       "        vertical-align: top;\n",
       "    }\n",
       "\n",
       "    .dataframe thead th {\n",
       "        text-align: right;\n",
       "    }\n",
       "</style>\n",
       "<table border=\"1\" class=\"dataframe\">\n",
       "  <thead>\n",
       "    <tr style=\"text-align: right;\">\n",
       "      <th></th>\n",
       "      <th>Client</th>\n",
       "      <th>Propensity</th>\n",
       "      <th>Revenue</th>\n",
       "      <th>Revenue_adjusted</th>\n",
       "    </tr>\n",
       "  </thead>\n",
       "  <tbody>\n",
       "    <tr>\n",
       "      <th>1016</th>\n",
       "      <td>1104</td>\n",
       "      <td>0.925926</td>\n",
       "      <td>6.250000</td>\n",
       "      <td>5.787037</td>\n",
       "    </tr>\n",
       "    <tr>\n",
       "      <th>94</th>\n",
       "      <td>172</td>\n",
       "      <td>0.925926</td>\n",
       "      <td>0.000000</td>\n",
       "      <td>0.000000</td>\n",
       "    </tr>\n",
       "    <tr>\n",
       "      <th>896</th>\n",
       "      <td>1582</td>\n",
       "      <td>0.925926</td>\n",
       "      <td>12.170714</td>\n",
       "      <td>11.269180</td>\n",
       "    </tr>\n",
       "    <tr>\n",
       "      <th>1171</th>\n",
       "      <td>900</td>\n",
       "      <td>0.925926</td>\n",
       "      <td>24.797500</td>\n",
       "      <td>22.960648</td>\n",
       "    </tr>\n",
       "    <tr>\n",
       "      <th>994</th>\n",
       "      <td>208</td>\n",
       "      <td>0.925926</td>\n",
       "      <td>5.801786</td>\n",
       "      <td>5.372024</td>\n",
       "    </tr>\n",
       "    <tr>\n",
       "      <th>...</th>\n",
       "      <td>...</td>\n",
       "      <td>...</td>\n",
       "      <td>...</td>\n",
       "      <td>...</td>\n",
       "    </tr>\n",
       "    <tr>\n",
       "      <th>201</th>\n",
       "      <td>374</td>\n",
       "      <td>0.308824</td>\n",
       "      <td>0.000000</td>\n",
       "      <td>0.000000</td>\n",
       "    </tr>\n",
       "    <tr>\n",
       "      <th>1130</th>\n",
       "      <td>537</td>\n",
       "      <td>0.308824</td>\n",
       "      <td>13.214286</td>\n",
       "      <td>4.080882</td>\n",
       "    </tr>\n",
       "    <tr>\n",
       "      <th>70</th>\n",
       "      <td>122</td>\n",
       "      <td>0.308824</td>\n",
       "      <td>0.000000</td>\n",
       "      <td>0.000000</td>\n",
       "    </tr>\n",
       "    <tr>\n",
       "      <th>443</th>\n",
       "      <td>792</td>\n",
       "      <td>0.308824</td>\n",
       "      <td>16.247500</td>\n",
       "      <td>5.017610</td>\n",
       "    </tr>\n",
       "    <tr>\n",
       "      <th>48</th>\n",
       "      <td>82</td>\n",
       "      <td>0.000000</td>\n",
       "      <td>5.396429</td>\n",
       "      <td>0.000000</td>\n",
       "    </tr>\n",
       "  </tbody>\n",
       "</table>\n",
       "<p>183 rows × 4 columns</p>\n",
       "</div>"
      ],
      "text/plain": [
       "      Client  Propensity    Revenue  Revenue_adjusted\n",
       "1016    1104    0.925926   6.250000          5.787037\n",
       "94       172    0.925926   0.000000          0.000000\n",
       "896     1582    0.925926  12.170714         11.269180\n",
       "1171     900    0.925926  24.797500         22.960648\n",
       "994      208    0.925926   5.801786          5.372024\n",
       "...      ...         ...        ...               ...\n",
       "201      374    0.308824   0.000000          0.000000\n",
       "1130     537    0.308824  13.214286          4.080882\n",
       "70       122    0.308824   0.000000          0.000000\n",
       "443      792    0.308824  16.247500          5.017610\n",
       "48        82    0.000000   5.396429          0.000000\n",
       "\n",
       "[183 rows x 4 columns]"
      ]
     },
     "execution_count": 267,
     "metadata": {},
     "output_type": "execute_result"
    }
   ],
   "source": [
    "clients=X_test_over.loc[:,'Client']\n",
    "propensity=pred_prob_over\n",
    "Propensity_CL_over=pd.DataFrame({\"Client\":clients,\"Propensity\":propensity})\n",
    "\n",
    "Propensity_CL_over.drop_duplicates(subset=['Client'],inplace=True)\n",
    "Propensity_CL_over['Propensity'].shape\n",
    "clients=Propensity_CL_over['Client']\n",
    "\n",
    "revenue=X_test_over.query('Client in @clients')['Revenue_CL']\n",
    "revenue_adjusted=revenue.multiply(Propensity_CL_over['Propensity'])\n",
    "\n",
    "# Add adjusted revenue field by multiplying revenue and propensity to buy the corresponding product\n",
    "Propensity_CL_over['Revenue'] = revenue\n",
    "Propensity_CL_over['Revenue_adjusted'] = revenue_adjusted\n",
    "Propensity_CL_over.sort_values(\"Propensity\",ascending=False, inplace=True)\n",
    "Propensity_CL_over"
   ]
  },
  {
   "cell_type": "code",
   "execution_count": 268,
   "id": "a2a96051",
   "metadata": {},
   "outputs": [],
   "source": [
    "# Write results to excel sheet\n",
    "with pd.ExcelWriter('D:/Courses and Projects/Revenue optimization/Binary classification/Decision tree/Customer propensity.xlsx') as writer:\n",
    "        Propensity_MF.to_excel(writer,sheet_name='MutualFunds',index=False)\n",
    "        Propensity_CC.to_excel(writer,sheet_name='CreditCard',index=False)\n",
    "        Propensity_CL.to_excel(writer,sheet_name='ConsumerLoan',index=False)"
   ]
  },
  {
   "cell_type": "code",
   "execution_count": 269,
   "id": "ae6e4b2f",
   "metadata": {},
   "outputs": [],
   "source": [
    "# Write results to excel sheet\n",
    "with pd.ExcelWriter('D:/Courses and Projects/Revenue optimization/Binary classification/Decision tree/Customer propensity_OverSampled.xlsx') as writer:\n",
    "        Propensity_MF_over.to_excel(writer,sheet_name='MutualFunds',index=False)\n",
    "        Propensity_CC_over.to_excel(writer,sheet_name='CreditCard',index=False)\n",
    "        Propensity_CL_over.to_excel(writer,sheet_name='ConsumerLoan',index=False)"
   ]
  },
  {
   "cell_type": "code",
   "execution_count": null,
   "id": "aedb1410",
   "metadata": {},
   "outputs": [],
   "source": []
  }
 ],
 "metadata": {
  "kernelspec": {
   "display_name": "Python 3 (ipykernel)",
   "language": "python",
   "name": "python3"
  },
  "language_info": {
   "codemirror_mode": {
    "name": "ipython",
    "version": 3
   },
   "file_extension": ".py",
   "mimetype": "text/x-python",
   "name": "python",
   "nbconvert_exporter": "python",
   "pygments_lexer": "ipython3",
   "version": "3.9.12"
  }
 },
 "nbformat": 4,
 "nbformat_minor": 5
}
